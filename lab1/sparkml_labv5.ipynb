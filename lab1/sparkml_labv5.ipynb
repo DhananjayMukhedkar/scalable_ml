{
 "cells": [
  {
   "cell_type": "markdown",
   "metadata": {},
   "source": [
    "# Machine Learning With Spark ML\n",
    "In this lab assignment, you will complete a project by going through the following steps:\n",
    "1. Get the data.\n",
    "2. Discover the data to gain insights.\n",
    "3. Prepare the data for Machine Learning algorithms.\n",
    "4. Select a model and train it.\n",
    "5. Fine-tune your model.\n",
    "6. Present your solution.\n",
    "\n",
    "As a dataset, we use the California Housing Prices dataset from the StatLib repository. This dataset was based on data from the 1990 California census. The dataset has the following columns\n",
    "1. `longitude`: a measure of how far west a house is (a higher value is farther west)\n",
    "2. `latitude`: a measure of how far north a house is (a higher value is farther north)\n",
    "3. `housing_,median_age`: median age of a house within a block (a lower number is a newer building)\n",
    "4. `total_rooms`: total number of rooms within a block\n",
    "5. `total_bedrooms`: total number of bedrooms within a block\n",
    "6. `population`: total number of people residing within a block\n",
    "7. `households`: total number of households, a group of people residing within a home unit, for a block\n",
    "8. `median_income`: median income for households within a block of houses\n",
    "9. `median_house_value`: median house value for households within a block\n",
    "10. `ocean_proximity`: location of the house w.r.t ocean/sea\n",
    "\n",
    "---\n",
    "# 1. Get the data\n",
    "Let's start the lab by loading the dataset. The can find the dataset at `data/housing.csv`. To infer column types automatically, when you are reading the file, you need to set `inferSchema` to true. Moreover enable the `header` option to read the columns' name from the file."
   ]
  },
  {
   "cell_type": "code",
   "execution_count": 46,
   "metadata": {},
   "outputs": [
    {
     "data": {
      "text/plain": [
       "housing = [longitude: double, latitude: double ... 8 more fields]\n"
      ]
     },
     "metadata": {},
     "output_type": "display_data"
    },
    {
     "data": {
      "text/plain": [
       "[longitude: double, latitude: double ... 8 more fields]"
      ]
     },
     "execution_count": 46,
     "metadata": {},
     "output_type": "execute_result"
    }
   ],
   "source": [
    "// TODO: Replace <FILL IN> with appropriate code\n",
    "\n",
    "val housing = spark.read.format(\"csv\").option(\"header\", \"true\").option(\"inferSchema\",\"true\")load(\"data/housing.csv\")"
   ]
  },
  {
   "cell_type": "markdown",
   "metadata": {},
   "source": [
    "---\n",
    "# 2. Discover the data to gain insights\n",
    "Now it is time to take a look at the data. In this step we are going to take a look at the data a few different ways:\n",
    "* See the schema and dimension of the dataset\n",
    "* Look at the data itself\n",
    "* Statistical summary of the attributes\n",
    "* Breakdown of the data by the categorical attribute variable\n",
    "* Find the correlation among different attributes\n",
    "* Make new attributes by combining existing attributes"
   ]
  },
  {
   "cell_type": "markdown",
   "metadata": {},
   "source": [
    "## 2.1. Schema and dimension\n",
    "Print the schema of the dataset"
   ]
  },
  {
   "cell_type": "code",
   "execution_count": 47,
   "metadata": {},
   "outputs": [
    {
     "name": "stdout",
     "output_type": "stream",
     "text": [
      "+---------+--------+------------------+-----------+--------------+----------+----------+-------------+------------------+---------------+\n",
      "|longitude|latitude|housing_median_age|total_rooms|total_bedrooms|population|households|median_income|median_house_value|ocean_proximity|\n",
      "+---------+--------+------------------+-----------+--------------+----------+----------+-------------+------------------+---------------+\n",
      "|  -122.23|   37.88|              41.0|      880.0|         129.0|     322.0|     126.0|       8.3252|          452600.0|       NEAR BAY|\n",
      "|  -122.22|   37.86|              21.0|     7099.0|        1106.0|    2401.0|    1138.0|       8.3014|          358500.0|       NEAR BAY|\n",
      "|  -122.24|   37.85|              52.0|     1467.0|         190.0|     496.0|     177.0|       7.2574|          352100.0|       NEAR BAY|\n",
      "|  -122.25|   37.85|              52.0|     1274.0|         235.0|     558.0|     219.0|       5.6431|          341300.0|       NEAR BAY|\n",
      "|  -122.25|   37.85|              52.0|     1627.0|         280.0|     565.0|     259.0|       3.8462|          342200.0|       NEAR BAY|\n",
      "|  -122.25|   37.85|              52.0|      919.0|         213.0|     413.0|     193.0|       4.0368|          269700.0|       NEAR BAY|\n",
      "|  -122.25|   37.84|              52.0|     2535.0|         489.0|    1094.0|     514.0|       3.6591|          299200.0|       NEAR BAY|\n",
      "|  -122.25|   37.84|              52.0|     3104.0|         687.0|    1157.0|     647.0|         3.12|          241400.0|       NEAR BAY|\n",
      "|  -122.26|   37.84|              42.0|     2555.0|         665.0|    1206.0|     595.0|       2.0804|          226700.0|       NEAR BAY|\n",
      "|  -122.25|   37.84|              52.0|     3549.0|         707.0|    1551.0|     714.0|       3.6912|          261100.0|       NEAR BAY|\n",
      "|  -122.26|   37.85|              52.0|     2202.0|         434.0|     910.0|     402.0|       3.2031|          281500.0|       NEAR BAY|\n",
      "|  -122.26|   37.85|              52.0|     3503.0|         752.0|    1504.0|     734.0|       3.2705|          241800.0|       NEAR BAY|\n",
      "|  -122.26|   37.85|              52.0|     2491.0|         474.0|    1098.0|     468.0|        3.075|          213500.0|       NEAR BAY|\n",
      "|  -122.26|   37.84|              52.0|      696.0|         191.0|     345.0|     174.0|       2.6736|          191300.0|       NEAR BAY|\n",
      "|  -122.26|   37.85|              52.0|     2643.0|         626.0|    1212.0|     620.0|       1.9167|          159200.0|       NEAR BAY|\n",
      "|  -122.26|   37.85|              50.0|     1120.0|         283.0|     697.0|     264.0|        2.125|          140000.0|       NEAR BAY|\n",
      "|  -122.27|   37.85|              52.0|     1966.0|         347.0|     793.0|     331.0|        2.775|          152500.0|       NEAR BAY|\n",
      "|  -122.27|   37.85|              52.0|     1228.0|         293.0|     648.0|     303.0|       2.1202|          155500.0|       NEAR BAY|\n",
      "|  -122.26|   37.84|              50.0|     2239.0|         455.0|     990.0|     419.0|       1.9911|          158700.0|       NEAR BAY|\n",
      "|  -122.27|   37.84|              52.0|     1503.0|         298.0|     690.0|     275.0|       2.6033|          162900.0|       NEAR BAY|\n",
      "+---------+--------+------------------+-----------+--------------+----------+----------+-------------+------------------+---------------+\n",
      "only showing top 20 rows\n",
      "\n"
     ]
    }
   ],
   "source": [
    "// TODO: Replace <FILL IN> with appropriate code\n",
    "\n",
    "housing.show()"
   ]
  },
  {
   "cell_type": "markdown",
   "metadata": {},
   "source": [
    "Print the number of records in the dataset."
   ]
  },
  {
   "cell_type": "code",
   "execution_count": 48,
   "metadata": {},
   "outputs": [
    {
     "data": {
      "text/plain": [
       "20640"
      ]
     },
     "execution_count": 48,
     "metadata": {},
     "output_type": "execute_result"
    }
   ],
   "source": [
    "// TODO: Replace <FILL IN> with appropriate code\n",
    "\n",
    "housing.count()"
   ]
  },
  {
   "cell_type": "markdown",
   "metadata": {},
   "source": [
    "## 2.2. Look at the data\n",
    "Print the first five records of the dataset."
   ]
  },
  {
   "cell_type": "code",
   "execution_count": 49,
   "metadata": {},
   "outputs": [
    {
     "name": "stdout",
     "output_type": "stream",
     "text": [
      "+---------+--------+------------------+-----------+--------------+----------+----------+-------------+------------------+---------------+\n",
      "|longitude|latitude|housing_median_age|total_rooms|total_bedrooms|population|households|median_income|median_house_value|ocean_proximity|\n",
      "+---------+--------+------------------+-----------+--------------+----------+----------+-------------+------------------+---------------+\n",
      "|  -122.23|   37.88|              41.0|      880.0|         129.0|     322.0|     126.0|       8.3252|          452600.0|       NEAR BAY|\n",
      "|  -122.22|   37.86|              21.0|     7099.0|        1106.0|    2401.0|    1138.0|       8.3014|          358500.0|       NEAR BAY|\n",
      "|  -122.24|   37.85|              52.0|     1467.0|         190.0|     496.0|     177.0|       7.2574|          352100.0|       NEAR BAY|\n",
      "|  -122.25|   37.85|              52.0|     1274.0|         235.0|     558.0|     219.0|       5.6431|          341300.0|       NEAR BAY|\n",
      "|  -122.25|   37.85|              52.0|     1627.0|         280.0|     565.0|     259.0|       3.8462|          342200.0|       NEAR BAY|\n",
      "+---------+--------+------------------+-----------+--------------+----------+----------+-------------+------------------+---------------+\n",
      "only showing top 5 rows\n",
      "\n"
     ]
    }
   ],
   "source": [
    "// TODO: Replace <FILL IN> with appropriate code\n",
    "\n",
    "housing.show(5)"
   ]
  },
  {
   "cell_type": "markdown",
   "metadata": {},
   "source": [
    "Print the number of records with population more than 10000."
   ]
  },
  {
   "cell_type": "code",
   "execution_count": 50,
   "metadata": {},
   "outputs": [
    {
     "data": {
      "text/plain": [
       "23"
      ]
     },
     "execution_count": 50,
     "metadata": {},
     "output_type": "execute_result"
    }
   ],
   "source": [
    "// TODO: Replace <FILL IN> with appropriate code\n",
    "\n",
    "housing.where(\"population > 10000\").count()"
   ]
  },
  {
   "cell_type": "markdown",
   "metadata": {},
   "source": [
    "## 2.3. Statistical summary\n",
    "Print a summary of the table statistics for the attributes `housing_median_age`, `total_rooms`, `median_house_value`, and `population`. You can use the `describe` command."
   ]
  },
  {
   "cell_type": "code",
   "execution_count": 51,
   "metadata": {},
   "outputs": [
    {
     "name": "stdout",
     "output_type": "stream",
     "text": [
      "+-------+------------------+------------------+------------------+------------------+\n",
      "|summary|housing_median_age|       total_rooms|median_house_value|        population|\n",
      "+-------+------------------+------------------+------------------+------------------+\n",
      "|  count|             20640|             20640|             20640|             20640|\n",
      "|   mean|28.639486434108527|2635.7630813953488|206855.81690891474|1425.4767441860465|\n",
      "| stddev| 12.58555761211163|2181.6152515827944|115395.61587441359|  1132.46212176534|\n",
      "|    min|               1.0|               2.0|           14999.0|               3.0|\n",
      "|    max|              52.0|           39320.0|          500001.0|           35682.0|\n",
      "+-------+------------------+------------------+------------------+------------------+\n",
      "\n"
     ]
    },
    {
     "data": {
      "text/plain": [
       "a = [summary: string, housing_median_age: string ... 3 more fields]\n"
      ]
     },
     "metadata": {},
     "output_type": "display_data"
    },
    {
     "data": {
      "text/plain": [
       "[summary: string, housing_median_age: string ... 3 more fields]"
      ]
     },
     "execution_count": 51,
     "metadata": {},
     "output_type": "execute_result"
    }
   ],
   "source": [
    "// TODO: Replace <FILL IN> with appropriate code\n",
    "\n",
    "val a=housing.select(\"housing_median_age\",\"total_rooms\",\"median_house_value\",\"population\").describe()\n",
    "a.show()"
   ]
  },
  {
   "cell_type": "markdown",
   "metadata": {},
   "source": [
    "Print the maximum age (`housing_median_age`), the minimum number of rooms (`total_rooms`), and the average of house values (`median_house_value`)."
   ]
  },
  {
   "cell_type": "code",
   "execution_count": 52,
   "metadata": {},
   "outputs": [
    {
     "name": "stdout",
     "output_type": "stream",
     "text": [
      "+-----------------------+----------------+-----------------------+\n",
      "|max(housing_median_age)|min(total_rooms)|avg(median_house_value)|\n",
      "+-----------------------+----------------+-----------------------+\n",
      "|                   52.0|             2.0|     206855.81690891474|\n",
      "+-----------------------+----------------+-----------------------+\n",
      "\n"
     ]
    }
   ],
   "source": [
    "// TODO: Replace <FILL IN> with appropriate code\n",
    "\n",
    "import org.apache.spark.sql.functions._\n",
    "\n",
    "housing.select(max(\"housing_median_age\"),min(\"total_rooms\"),avg(\"median_house_value\")).show()"
   ]
  },
  {
   "cell_type": "markdown",
   "metadata": {},
   "source": [
    "## 2.4. Breakdown the data by categorical data\n",
    "Print the number of houses in different areas (`ocean_proximity`), and sort them in descending order."
   ]
  },
  {
   "cell_type": "code",
   "execution_count": 53,
   "metadata": {},
   "outputs": [
    {
     "name": "stdout",
     "output_type": "stream",
     "text": [
      "+---------------+----------------------+\n",
      "|ocean_proximity|count(ocean_proximity)|\n",
      "+---------------+----------------------+\n",
      "|     NEAR OCEAN|                  2658|\n",
      "|       NEAR BAY|                  2290|\n",
      "|         ISLAND|                     5|\n",
      "|         INLAND|                  6551|\n",
      "|      <1H OCEAN|                  9136|\n",
      "+---------------+----------------------+\n",
      "\n"
     ]
    }
   ],
   "source": [
    "// TODO: Replace <FILL IN> with appropriate code\n",
    "\n",
    "housing.groupBy(\"ocean_proximity\").agg(count(\"ocean_proximity\")).sort(desc(\"ocean_proximity\")).show()"
   ]
  },
  {
   "cell_type": "markdown",
   "metadata": {},
   "source": [
    "Print the average value of the houses (`median_house_value`) in different areas (`ocean_proximity`), and call the new column `avg_value` when print it."
   ]
  },
  {
   "cell_type": "code",
   "execution_count": 54,
   "metadata": {},
   "outputs": [
    {
     "name": "stdout",
     "output_type": "stream",
     "text": [
      "+---------------+------------------+\n",
      "|ocean_proximity|          avg_vale|\n",
      "+---------------+------------------+\n",
      "|     NEAR OCEAN|249433.97742663656|\n",
      "|       NEAR BAY|259212.31179039303|\n",
      "|         ISLAND|          380440.0|\n",
      "|         INLAND|124805.39200122119|\n",
      "|      <1H OCEAN|240084.28546409807|\n",
      "+---------------+------------------+\n",
      "\n"
     ]
    }
   ],
   "source": [
    "// TODO: Replace <FILL IN> with appropriate code\n",
    "\n",
    "housing.groupBy(\"ocean_proximity\").agg(avg(\"median_house_value\") as \"avg_vale\").sort(desc(\"ocean_proximity\")).show()"
   ]
  },
  {
   "cell_type": "markdown",
   "metadata": {},
   "source": [
    "Rewrite the above question in SQL."
   ]
  },
  {
   "cell_type": "code",
   "execution_count": 55,
   "metadata": {},
   "outputs": [
    {
     "name": "stdout",
     "output_type": "stream",
     "text": [
      "+---------------+------------------+\n",
      "|ocean_proximity|         avg_value|\n",
      "+---------------+------------------+\n",
      "|     NEAR OCEAN|249433.97742663656|\n",
      "|       NEAR BAY|259212.31179039303|\n",
      "|         ISLAND|          380440.0|\n",
      "|         INLAND|124805.39200122119|\n",
      "|      <1H OCEAN|240084.28546409807|\n",
      "+---------------+------------------+\n",
      "\n"
     ]
    }
   ],
   "source": [
    "// TODO: Replace <FILL IN> with appropriate code\n",
    "\n",
    "housing.createOrReplaceTempView(\"df\")\n",
    "spark.sql(\"select ocean_proximity,avg(median_house_value) as avg_value from df group by ocean_proximity order by ocean_proximity desc \").show()"
   ]
  },
  {
   "cell_type": "markdown",
   "metadata": {},
   "source": [
    "## 2.5. Correlation among attributes\n",
    "Print the correlation among the attributes `housing_median_age`, `total_rooms`, `median_house_value`, and `population`. To do so, first you need to put these attributes into one vector. Then, compute the standard correlation coefficient (Pearson) between every pair of attributes in this new vector. To make a vector of these attributes, you can use the `VectorAssembler` Transformer."
   ]
  },
  {
   "cell_type": "code",
   "execution_count": 56,
   "metadata": {},
   "outputs": [
    {
     "name": "stdout",
     "output_type": "stream",
     "text": [
      "+---------+--------+------------------+-----------+--------------+----------+----------+-------------+------------------+---------------+--------------------+\n",
      "|longitude|latitude|housing_median_age|total_rooms|total_bedrooms|population|households|median_income|median_house_value|ocean_proximity|            features|\n",
      "+---------+--------+------------------+-----------+--------------+----------+----------+-------------+------------------+---------------+--------------------+\n",
      "|  -122.23|   37.88|              41.0|      880.0|         129.0|     322.0|     126.0|       8.3252|          452600.0|       NEAR BAY|[41.0,880.0,45260...|\n",
      "|  -122.22|   37.86|              21.0|     7099.0|        1106.0|    2401.0|    1138.0|       8.3014|          358500.0|       NEAR BAY|[21.0,7099.0,3585...|\n",
      "|  -122.24|   37.85|              52.0|     1467.0|         190.0|     496.0|     177.0|       7.2574|          352100.0|       NEAR BAY|[52.0,1467.0,3521...|\n",
      "|  -122.25|   37.85|              52.0|     1274.0|         235.0|     558.0|     219.0|       5.6431|          341300.0|       NEAR BAY|[52.0,1274.0,3413...|\n",
      "|  -122.25|   37.85|              52.0|     1627.0|         280.0|     565.0|     259.0|       3.8462|          342200.0|       NEAR BAY|[52.0,1627.0,3422...|\n",
      "+---------+--------+------------------+-----------+--------------+----------+----------+-------------+------------------+---------------+--------------------+\n",
      "only showing top 5 rows\n",
      "\n"
     ]
    },
    {
     "data": {
      "text/plain": [
       "va = vecAssembler_aa89b12b8bfd\n",
       "housingAttrs = [longitude: double, latitude: double ... 9 more fields]\n"
      ]
     },
     "metadata": {},
     "output_type": "display_data"
    },
    {
     "data": {
      "text/plain": [
       "[longitude: double, latitude: double ... 9 more fields]"
      ]
     },
     "execution_count": 56,
     "metadata": {},
     "output_type": "execute_result"
    }
   ],
   "source": [
    "// TODO: Replace <FILL IN> with appropriate code\n",
    "\n",
    "import org.apache.spark.ml.feature.VectorAssembler\n",
    "\n",
    "val va = new VectorAssembler().setInputCols(Array(\"housing_median_age\",\"total_rooms\",\"median_house_value\")).setOutputCol(\"features\")\n",
    "\n",
    "val housingAttrs = va.transform(housing)\n",
    "\n",
    "housingAttrs.show(5)"
   ]
  },
  {
   "cell_type": "code",
   "execution_count": 57,
   "metadata": {},
   "outputs": [
    {
     "name": "stdout",
     "output_type": "stream",
     "text": [
      "The standard correlation coefficient:\n",
      " 1.0                   -0.36126220122231784  0.10562341249318154  \n",
      "-0.36126220122231784  1.0                   0.13415311380654338  \n",
      "0.10562341249318154   0.13415311380654338   1.0                  \n"
     ]
    },
    {
     "data": {
      "text/plain": [
       "coeff = \n"
      ]
     },
     "metadata": {},
     "output_type": "display_data"
    },
    {
     "data": {
      "text/plain": [
       "1.0                   -0.36126220122231784  0.10562341249318154\n",
       "-0.36126220122231784  1.0                   0.13415311380654338\n",
       "0.10562341249318154   0.13415311380654338   1.0\n"
      ]
     },
     "metadata": {},
     "output_type": "display_data"
    }
   ],
   "source": [
    "// TODO: Replace <FILL IN> with appropriate code\n",
    "\n",
    "import org.apache.spark.ml.linalg.Matrix\n",
    "import org.apache.spark.ml.stat.Correlation\n",
    "import org.apache.spark.sql.Row\n",
    "\n",
    "val Row(coeff: Matrix) = Correlation.corr(housingAttrs,\"features\").head()\n",
    "\n",
    "println(s\"The standard correlation coefficient:\\n ${coeff}\")"
   ]
  },
  {
   "cell_type": "markdown",
   "metadata": {},
   "source": [
    "## 2.6. Combine and make new attributes\n",
    "Now, let's try out various attribute combinations. In the given dataset, the total number of rooms in a block is not very useful, if we don't know how many households there are. What we really want is the number of rooms per household. Similarly, the total number of bedrooms by itself is not very useful, and we want to compare it to the number of rooms. And the population per household seems like also an interesting attribute combination to look at. To do so, add the three new columns to the dataset as below. We will call the new dataset the `housingExtra`.\n",
    "```\n",
    "rooms_per_household = total_rooms / households\n",
    "bedrooms_per_room = total_bedrooms / total_rooms\n",
    "population_per_household = population / households\n",
    "```"
   ]
  },
  {
   "cell_type": "markdown",
   "metadata": {},
   "source": [
    "rooms_per_household = total_rooms / households;\n",
    "bedrooms_per_room = total_bedrooms / total_rooms;\n",
    "population_per_household = population / households;"
   ]
  },
  {
   "cell_type": "code",
   "execution_count": 58,
   "metadata": {},
   "outputs": [
    {
     "name": "stdout",
     "output_type": "stream",
     "text": [
      "+-------------------+-------------------+------------------------+\n",
      "|rooms_per_household|  bedrooms_per_room|population_per_household|\n",
      "+-------------------+-------------------+------------------------+\n",
      "|  6.984126984126984|0.14659090909090908|      2.5555555555555554|\n",
      "|  6.238137082601054|0.15579659106916466|       2.109841827768014|\n",
      "|  8.288135593220339|0.12951601908657123|      2.8022598870056497|\n",
      "| 5.8173515981735155|0.18445839874411302|       2.547945205479452|\n",
      "|  6.281853281853282| 0.1720958819913952|      2.1814671814671813|\n",
      "+-------------------+-------------------+------------------------+\n",
      "only showing top 5 rows\n",
      "\n"
     ]
    },
    {
     "data": {
      "text/plain": [
       "housingCol1 = [longitude: double, latitude: double ... 9 more fields]\n",
       "housingCol2 = [longitude: double, latitude: double ... 10 more fields]\n",
       "housingExtra = [longitude: double, latitude: double ... 11 more fields]\n"
      ]
     },
     "metadata": {},
     "output_type": "display_data"
    },
    {
     "data": {
      "text/plain": [
       "[longitude: double, latitude: double ... 11 more fields]"
      ]
     },
     "execution_count": 58,
     "metadata": {},
     "output_type": "execute_result"
    }
   ],
   "source": [
    "// TODO: Replace <FILL IN> with appropriate code\n",
    "\n",
    "val housingCol1 = housing.withColumn(\"rooms_per_household\",expr(\"total_rooms/households\"))\n",
    "val housingCol2 = housingCol1.withColumn(\"bedrooms_per_room\",expr(\"total_bedrooms/total_rooms\"))\n",
    "val housingExtra = housingCol2.withColumn(\"population_per_household\",expr(\"population/households\"))\n",
    "\n",
    "housingExtra.select(\"rooms_per_household\", \"bedrooms_per_room\", \"population_per_household\").show(5)"
   ]
  },
  {
   "cell_type": "markdown",
   "metadata": {},
   "source": [
    "---\n",
    "## 3. Prepare the data for Machine Learning algorithms\n",
    "Before going through the Machine Learning steps, let's first rename the label column from `median_house_value` to `label`."
   ]
  },
  {
   "cell_type": "code",
   "execution_count": 59,
   "metadata": {},
   "outputs": [
    {
     "data": {
      "text/plain": [
       "renamedHousing = [longitude: double, latitude: double ... 11 more fields]\n"
      ]
     },
     "metadata": {},
     "output_type": "display_data"
    },
    {
     "data": {
      "text/plain": [
       "[longitude: double, latitude: double ... 11 more fields]"
      ]
     },
     "execution_count": 59,
     "metadata": {},
     "output_type": "execute_result"
    }
   ],
   "source": [
    "// TODO: Replace <FILL IN> with appropriate code\n",
    "\n",
    "val renamedHousing = housingExtra.withColumnRenamed(\"median_house_value\",\"label\");"
   ]
  },
  {
   "cell_type": "markdown",
   "metadata": {},
   "source": [
    "Now, we want to separate the numerical attributes from the categorical attribute (`ocean_proximity`) and keep their column names in two different lists. Moreover, sice we don't want to apply the same transformations to the predictors (features) and the label, we should remove the label attribute from the list of predictors. "
   ]
  },
  {
   "cell_type": "code",
   "execution_count": 60,
   "metadata": {},
   "outputs": [
    {
     "data": {
      "text/plain": [
       "colLabel = label\n",
       "colCat = ocean_proximity\n",
       "colNum = Array(longitude, latitude, housing_median_age, total_rooms, total_bedrooms, population, households, median_income, rooms_per_household, bedrooms_per_room, population_per_household)\n"
      ]
     },
     "metadata": {},
     "output_type": "display_data"
    },
    {
     "data": {
      "text/plain": [
       "Array(longitude, latitude, housing_median_age, total_rooms, total_bedrooms, population, households, median_income, rooms_per_household, bedrooms_per_room, population_per_household)"
      ]
     },
     "execution_count": 60,
     "metadata": {},
     "output_type": "execute_result"
    }
   ],
   "source": [
    "// label columns\n",
    "val colLabel = \"label\"\n",
    "\n",
    "// categorical columns\n",
    "val colCat = \"ocean_proximity\"\n",
    "\n",
    "// numerical columns\n",
    "val colNum = renamedHousing.columns.filter(_ != colLabel).filter(_ != colCat)"
   ]
  },
  {
   "cell_type": "markdown",
   "metadata": {},
   "source": [
    "## 3.1. Prepare continuse attributes\n",
    "### Data cleaning\n",
    "Most Machine Learning algorithms cannot work with missing features, so we should take care of them. As a first step, let's find the columns with missing values in the numerical attributes. To do so, we can print the number of missing values of each continues attributes, listed in `colNum`."
   ]
  },
  {
   "cell_type": "code",
   "execution_count": 61,
   "metadata": {},
   "outputs": [
    {
     "name": "stdout",
     "output_type": "stream",
     "text": [
      "longitude\n",
      "0\n",
      "latitude\n",
      "0\n",
      "housing_median_age\n",
      "0\n",
      "total_rooms\n",
      "0\n",
      "total_bedrooms\n",
      "207\n",
      "population\n",
      "0\n",
      "households\n",
      "0\n",
      "median_income\n",
      "0\n",
      "rooms_per_household\n",
      "0\n",
      "bedrooms_per_room\n",
      "207\n",
      "population_per_household\n",
      "0\n"
     ]
    }
   ],
   "source": [
    "// TODO: Replace <FILL IN> with appropriate code\n",
    "\n",
    "for (c <- colNum) {\n",
    "    println(c)\n",
    "   val a =renamedHousing.where(renamedHousing.col(c).isNull).count()\n",
    "\n",
    "   println(a) \n",
    "}"
   ]
  },
  {
   "cell_type": "markdown",
   "metadata": {},
   "source": [
    "As we observerd above, the `total_bedrooms` and `bedrooms_per_room` attributes have some missing values. One way to take care of missing values is to use the `Imputer` Transformer, which completes missing values in a dataset, either using the mean or the median of the columns in which the missing values are located. To use it, you need to create an `Imputer` instance, specifying that you want to replace each attribute's missing values with the \"median\" of that attribute."
   ]
  },
  {
   "cell_type": "code",
   "execution_count": 62,
   "metadata": {},
   "outputs": [
    {
     "name": "stdout",
     "output_type": "stream",
     "text": [
      "+--------------+-------------------+\n",
      "|total_bedrooms|  bedrooms_per_room|\n",
      "+--------------+-------------------+\n",
      "|         129.0|0.14659090909090908|\n",
      "|        1106.0|0.15579659106916466|\n",
      "|         190.0|0.12951601908657123|\n",
      "|         235.0|0.18445839874411302|\n",
      "|         280.0| 0.1720958819913952|\n",
      "+--------------+-------------------+\n",
      "only showing top 5 rows\n",
      "\n"
     ]
    },
    {
     "data": {
      "text/plain": [
       "imputer = imputer_e02ad21df895\n",
       "imputedHousing = [longitude: double, latitude: double ... 11 more fields]\n"
      ]
     },
     "metadata": {},
     "output_type": "display_data"
    },
    {
     "data": {
      "text/plain": [
       "[longitude: double, latitude: double ... 11 more fields]"
      ]
     },
     "execution_count": 62,
     "metadata": {},
     "output_type": "execute_result"
    }
   ],
   "source": [
    "// TODO: Replace <FILL IN> with appropriate code\n",
    "\n",
    "import org.apache.spark.ml.feature.Imputer\n",
    "\n",
    "val imputer = new Imputer().setStrategy(\"median\").setInputCols(Array(\"total_bedrooms\",\"bedrooms_per_room\")).setOutputCols(Array(\"total_bedrooms\",\"bedrooms_per_room\"))                                    \n",
    "val imputedHousing = imputer.fit(renamedHousing).transform(renamedHousing)\n",
    "\n",
    "imputedHousing.select(\"total_bedrooms\", \"bedrooms_per_room\").show(5)"
   ]
  },
  {
   "cell_type": "markdown",
   "metadata": {},
   "source": [
    "### Scaling\n",
    "One of the most important transformations you need to apply to your data is feature scaling. With few exceptions, Machine Learning algorithms don't perform well when the input numerical attributes have very different scales. This is the case for the housing data: the total number of rooms ranges from about 6 to 39,320, while the median incomes only range from 0 to 15. Note that scaling the label attribues is generally not required.\n",
    "\n",
    "One way to get all attributes to have the same scale is to use standardization. In standardization, for each value, first it subtracts the mean value (so standardized values always have a zero mean), and then it divides by the variance so that the resulting distribution has unit variance. To do this, we can use the `StandardScaler` Estimator. To use `StandardScaler`, again we need to convert all the numerical attributes into a big vectore of features using `VectorAssembler`, and then call `StandardScaler` on that vactor."
   ]
  },
  {
   "cell_type": "code",
   "execution_count": 63,
   "metadata": {},
   "outputs": [
    {
     "data": {
      "text/plain": [
       "Array(longitude, latitude, housing_median_age, total_rooms, total_bedrooms, population, households, median_income, label, ocean_proximity, rooms_per_household, bedrooms_per_room, population_per_household)"
      ]
     },
     "execution_count": 63,
     "metadata": {},
     "output_type": "execute_result"
    }
   ],
   "source": [
    "imputedHousing.columns"
   ]
  },
  {
   "cell_type": "code",
   "execution_count": 64,
   "metadata": {},
   "outputs": [
    {
     "name": "stdout",
     "output_type": "stream",
     "text": [
      "+---------+--------+------------------+-----------+--------------+----------+----------+-------------+--------+---------------+-------------------+-------------------+------------------------+--------------------+--------------------+\n",
      "|longitude|latitude|housing_median_age|total_rooms|total_bedrooms|population|households|median_income|   label|ocean_proximity|rooms_per_household|  bedrooms_per_room|population_per_household|        featuresFlat|              scalar|\n",
      "+---------+--------+------------------+-----------+--------------+----------+----------+-------------+--------+---------------+-------------------+-------------------+------------------------+--------------------+--------------------+\n",
      "|  -122.23|   37.88|              41.0|      880.0|         129.0|     322.0|     126.0|       8.3252|452600.0|       NEAR BAY|  6.984126984126984|0.14659090909090908|      2.5555555555555554|[-122.23,37.88,41...|[-61.007269596069...|\n",
      "|  -122.22|   37.86|              21.0|     7099.0|        1106.0|    2401.0|    1138.0|       8.3014|358500.0|       NEAR BAY|  6.238137082601054|0.15579659106916466|       2.109841827768014|[-122.22,37.86,21...|[-61.002278409814...|\n",
      "|  -122.24|   37.85|              52.0|     1467.0|         190.0|     496.0|     177.0|       7.2574|352100.0|       NEAR BAY|  8.288135593220339|0.12951601908657123|      2.8022598870056497|[-122.24,37.85,52...|[-61.012260782324...|\n",
      "|  -122.25|   37.85|              52.0|     1274.0|         235.0|     558.0|     219.0|       5.6431|341300.0|       NEAR BAY| 5.8173515981735155|0.18445839874411302|       2.547945205479452|[-122.25,37.85,52...|[-61.017251968579...|\n",
      "|  -122.25|   37.85|              52.0|     1627.0|         280.0|     565.0|     259.0|       3.8462|342200.0|       NEAR BAY|  6.281853281853282| 0.1720958819913952|      2.1814671814671813|[-122.25,37.85,52...|[-61.017251968579...|\n",
      "+---------+--------+------------------+-----------+--------------+----------+----------+-------------+--------+---------------+-------------------+-------------------+------------------------+--------------------+--------------------+\n",
      "only showing top 5 rows\n",
      "\n"
     ]
    },
    {
     "data": {
      "text/plain": [
       "va = vecAssembler_e7d6255ac118\n",
       "featuredHousing = [longitude: double, latitude: double ... 12 more fields]\n",
       "scaler = stdScal_7d188b486ae1\n",
       "scaledHousing = [longitude: double, latitude: double ... 13 more fields]\n"
      ]
     },
     "metadata": {},
     "output_type": "display_data"
    },
    {
     "data": {
      "text/plain": [
       "[longitude: double, latitude: double ... 13 more fields]"
      ]
     },
     "execution_count": 64,
     "metadata": {},
     "output_type": "execute_result"
    }
   ],
   "source": [
    "// TODO: Replace <FILL IN> with appropriate code\n",
    "\n",
    "import org.apache.spark.ml.feature.{VectorAssembler, StandardScaler}\n",
    "\n",
    "val va = new VectorAssembler().setInputCols(colNum).setOutputCol(\"featuresFlat\")\n",
    "val featuredHousing = va.transform(imputedHousing)\n",
    "\n",
    "val scaler = new StandardScaler().setInputCol(\"featuresFlat\").setOutputCol(\"scalar\")\n",
    "val scaledHousing = scaler.fit(featuredHousing).transform(featuredHousing)\n",
    "\n",
    "scaledHousing.show(5)"
   ]
  },
  {
   "cell_type": "markdown",
   "metadata": {},
   "source": [
    "## 3.2. Prepare categorical attributes\n",
    "After imputing and scaling the continuse attributes, we should take care of the categorical attributes. Let's first print the number of distict values of the categirical attribute `ocean_proximity`."
   ]
  },
  {
   "cell_type": "code",
   "execution_count": 65,
   "metadata": {},
   "outputs": [
    {
     "data": {
      "text/plain": [
       "5"
      ]
     },
     "execution_count": 65,
     "metadata": {},
     "output_type": "execute_result"
    }
   ],
   "source": [
    "// TODO: Replace <FILL IN> with appropriate code\n",
    "\n",
    "renamedHousing.select(\"ocean_proximity\").distinct().count()"
   ]
  },
  {
   "cell_type": "markdown",
   "metadata": {},
   "source": [
    "### String indexer\n",
    "Most Machine Learning algorithms prefer to work with numbers. So let's convert the categorical attribute `ocean_proximity` to numbers. To do so, we can use the `StringIndexer` that encodes a string column of labels to a column of label indices. The indices are in [0, numLabels), ordered by label frequencies, so the most frequent label gets index 0."
   ]
  },
  {
   "cell_type": "code",
   "execution_count": 66,
   "metadata": {},
   "outputs": [
    {
     "name": "stdout",
     "output_type": "stream",
     "text": [
      "+---------+--------+------------------+-----------+--------------+----------+----------+-------------+--------+---------------+-------------------+-------------------+------------------------+------+\n",
      "|longitude|latitude|housing_median_age|total_rooms|total_bedrooms|population|households|median_income|   label|ocean_proximity|rooms_per_household|  bedrooms_per_room|population_per_household|catInd|\n",
      "+---------+--------+------------------+-----------+--------------+----------+----------+-------------+--------+---------------+-------------------+-------------------+------------------------+------+\n",
      "|  -122.23|   37.88|              41.0|      880.0|         129.0|     322.0|     126.0|       8.3252|452600.0|       NEAR BAY|  6.984126984126984|0.14659090909090908|      2.5555555555555554|   3.0|\n",
      "|  -122.22|   37.86|              21.0|     7099.0|        1106.0|    2401.0|    1138.0|       8.3014|358500.0|       NEAR BAY|  6.238137082601054|0.15579659106916466|       2.109841827768014|   3.0|\n",
      "|  -122.24|   37.85|              52.0|     1467.0|         190.0|     496.0|     177.0|       7.2574|352100.0|       NEAR BAY|  8.288135593220339|0.12951601908657123|      2.8022598870056497|   3.0|\n",
      "|  -122.25|   37.85|              52.0|     1274.0|         235.0|     558.0|     219.0|       5.6431|341300.0|       NEAR BAY| 5.8173515981735155|0.18445839874411302|       2.547945205479452|   3.0|\n",
      "|  -122.25|   37.85|              52.0|     1627.0|         280.0|     565.0|     259.0|       3.8462|342200.0|       NEAR BAY|  6.281853281853282| 0.1720958819913952|      2.1814671814671813|   3.0|\n",
      "+---------+--------+------------------+-----------+--------------+----------+----------+-------------+--------+---------------+-------------------+-------------------+------------------------+------+\n",
      "only showing top 5 rows\n",
      "\n"
     ]
    },
    {
     "data": {
      "text/plain": [
       "indexer = strIdx_b22c59dad69a\n",
       "idxHousing = [longitude: double, latitude: double ... 12 more fields]\n"
      ]
     },
     "metadata": {},
     "output_type": "display_data"
    },
    {
     "data": {
      "text/plain": [
       "[longitude: double, latitude: double ... 12 more fields]"
      ]
     },
     "execution_count": 66,
     "metadata": {},
     "output_type": "execute_result"
    }
   ],
   "source": [
    "// TODO: Replace <FILL IN> with appropriate code\n",
    "\n",
    "import org.apache.spark.ml.feature.StringIndexer\n",
    "\n",
    "val indexer = new StringIndexer().setInputCol(colCat).setOutputCol(\"catInd\")\n",
    "val idxHousing = indexer.fit(renamedHousing).transform(renamedHousing)\n",
    "\n",
    "idxHousing.show(5)"
   ]
  },
  {
   "cell_type": "markdown",
   "metadata": {},
   "source": [
    "Now we can use this numerical data in any Machine Learning algorithm. You can look at the mapping that this encoder has learned using the `labels` method: \"<1H OCEAN\" is mapped to 0, \"INLAND\" is mapped to 1, etc."
   ]
  },
  {
   "cell_type": "code",
   "execution_count": 67,
   "metadata": {},
   "outputs": [
    {
     "data": {
      "text/plain": [
       "Array(<1H OCEAN, INLAND, NEAR OCEAN, NEAR BAY, ISLAND)"
      ]
     },
     "execution_count": 67,
     "metadata": {},
     "output_type": "execute_result"
    }
   ],
   "source": [
    "indexer.fit(renamedHousing).labels"
   ]
  },
  {
   "cell_type": "markdown",
   "metadata": {},
   "source": [
    "### One-hot encoding\n",
    "Now, convert the label indices built in the last step into one-hot vectors. To do this, you can take advantage of the `OneHotEncoderEstimator` Estimator."
   ]
  },
  {
   "cell_type": "code",
   "execution_count": 68,
   "metadata": {
    "scrolled": true
   },
   "outputs": [
    {
     "name": "stdout",
     "output_type": "stream",
     "text": [
      "+---------+--------+------------------+-----------+--------------+----------+----------+-------------+--------+---------------+-------------------+-------------------+------------------------+------+-------------+\n",
      "|longitude|latitude|housing_median_age|total_rooms|total_bedrooms|population|households|median_income|   label|ocean_proximity|rooms_per_household|  bedrooms_per_room|population_per_household|catInd|    catEncode|\n",
      "+---------+--------+------------------+-----------+--------------+----------+----------+-------------+--------+---------------+-------------------+-------------------+------------------------+------+-------------+\n",
      "|  -122.23|   37.88|              41.0|      880.0|         129.0|     322.0|     126.0|       8.3252|452600.0|       NEAR BAY|  6.984126984126984|0.14659090909090908|      2.5555555555555554|   3.0|(4,[3],[1.0])|\n",
      "|  -122.22|   37.86|              21.0|     7099.0|        1106.0|    2401.0|    1138.0|       8.3014|358500.0|       NEAR BAY|  6.238137082601054|0.15579659106916466|       2.109841827768014|   3.0|(4,[3],[1.0])|\n",
      "|  -122.24|   37.85|              52.0|     1467.0|         190.0|     496.0|     177.0|       7.2574|352100.0|       NEAR BAY|  8.288135593220339|0.12951601908657123|      2.8022598870056497|   3.0|(4,[3],[1.0])|\n",
      "|  -122.25|   37.85|              52.0|     1274.0|         235.0|     558.0|     219.0|       5.6431|341300.0|       NEAR BAY| 5.8173515981735155|0.18445839874411302|       2.547945205479452|   3.0|(4,[3],[1.0])|\n",
      "|  -122.25|   37.85|              52.0|     1627.0|         280.0|     565.0|     259.0|       3.8462|342200.0|       NEAR BAY|  6.281853281853282| 0.1720958819913952|      2.1814671814671813|   3.0|(4,[3],[1.0])|\n",
      "+---------+--------+------------------+-----------+--------------+----------+----------+-------------+--------+---------------+-------------------+-------------------+------------------------+------+-------------+\n",
      "only showing top 5 rows\n",
      "\n"
     ]
    },
    {
     "data": {
      "text/plain": [
       "encoder = oneHotEncoder_3bb9c3424f7c\n",
       "ohHousing = [longitude: double, latitude: double ... 13 more fields]\n"
      ]
     },
     "metadata": {},
     "output_type": "display_data"
    },
    {
     "data": {
      "text/plain": [
       "[longitude: double, latitude: double ... 13 more fields]"
      ]
     },
     "execution_count": 68,
     "metadata": {},
     "output_type": "execute_result"
    }
   ],
   "source": [
    "// TODO: Replace <FILL IN> with appropriate code\n",
    "\n",
    "import org.apache.spark.ml.feature.OneHotEncoderEstimator\n",
    "\n",
    "\n",
    "\n",
    "val encoder = new OneHotEncoderEstimator().setInputCols(Array(\"catInd\")).setOutputCols(Array(\"catEncode\"))\n",
    "val ohHousing = encoder.fit(idxHousing).transform(idxHousing)\n",
    "\n",
    "ohHousing.show(5)"
   ]
  },
  {
   "cell_type": "markdown",
   "metadata": {},
   "source": [
    "---\n",
    "# 4. Pipeline\n",
    "As you can see, there are many data transformation steps that need to be executed in the right order. For example, you called the `Imputer`, `VectorAssembler`, and `StandardScaler` from left to right. However, we can use the `Pipeline` class to define a sequence of Transformers/Estimators, and run them in order. A `Pipeline` is an `Estimator`, thus, after a Pipeline's `fit()` method runs, it produces a `PipelineModel`, which is a `Transformer`.\n",
    "\n",
    "Now, let's create a pipeline called `numPipeline` to call the numerical transformers you built above (`imputer`, `va`, and `scaler`) in the right order from left to right, as well as a pipeline called `catPipeline` to call the categorical transformers (`indexer` and `encoder`). Then, put these two pipelines `numPipeline` and `catPipeline` into one pipeline."
   ]
  },
  {
   "cell_type": "code",
   "execution_count": 69,
   "metadata": {},
   "outputs": [
    {
     "name": "stdout",
     "output_type": "stream",
     "text": [
      "+---------+--------+------------------+-----------+--------------+----------+----------+-------------+--------+---------------+-------------------+-------------------+------------------------+--------------------+--------------------+------+-------------+\n",
      "|longitude|latitude|housing_median_age|total_rooms|total_bedrooms|population|households|median_income|   label|ocean_proximity|rooms_per_household|  bedrooms_per_room|population_per_household|        featuresFlat|              scalar|catInd|    catEncode|\n",
      "+---------+--------+------------------+-----------+--------------+----------+----------+-------------+--------+---------------+-------------------+-------------------+------------------------+--------------------+--------------------+------+-------------+\n",
      "|  -122.23|   37.88|              41.0|      880.0|         129.0|     322.0|     126.0|       8.3252|452600.0|       NEAR BAY|  6.984126984126984|0.14659090909090908|      2.5555555555555554|[-122.23,37.88,41...|[-61.007269596069...|   3.0|(4,[3],[1.0])|\n",
      "|  -122.22|   37.86|              21.0|     7099.0|        1106.0|    2401.0|    1138.0|       8.3014|358500.0|       NEAR BAY|  6.238137082601054|0.15579659106916466|       2.109841827768014|[-122.22,37.86,21...|[-61.002278409814...|   3.0|(4,[3],[1.0])|\n",
      "|  -122.24|   37.85|              52.0|     1467.0|         190.0|     496.0|     177.0|       7.2574|352100.0|       NEAR BAY|  8.288135593220339|0.12951601908657123|      2.8022598870056497|[-122.24,37.85,52...|[-61.012260782324...|   3.0|(4,[3],[1.0])|\n",
      "|  -122.25|   37.85|              52.0|     1274.0|         235.0|     558.0|     219.0|       5.6431|341300.0|       NEAR BAY| 5.8173515981735155|0.18445839874411302|       2.547945205479452|[-122.25,37.85,52...|[-61.017251968579...|   3.0|(4,[3],[1.0])|\n",
      "|  -122.25|   37.85|              52.0|     1627.0|         280.0|     565.0|     259.0|       3.8462|342200.0|       NEAR BAY|  6.281853281853282| 0.1720958819913952|      2.1814671814671813|[-122.25,37.85,52...|[-61.017251968579...|   3.0|(4,[3],[1.0])|\n",
      "+---------+--------+------------------+-----------+--------------+----------+----------+-------------+--------+---------------+-------------------+-------------------+------------------------+--------------------+--------------------+------+-------------+\n",
      "only showing top 5 rows\n",
      "\n"
     ]
    },
    {
     "data": {
      "text/plain": [
       "numPipeline = pipeline_990d70c9b07d\n",
       "catPipeline = pipeline_32d7eb4550a0\n",
       "pipeline = pipeline_f7a9ba0c6c0d\n",
       "newHousing = [longitude: double, latitude: double ... 15 more fields]\n"
      ]
     },
     "metadata": {},
     "output_type": "display_data"
    },
    {
     "data": {
      "text/plain": [
       "[longitude: double, latitude: double ... 15 more fields]"
      ]
     },
     "execution_count": 69,
     "metadata": {},
     "output_type": "execute_result"
    }
   ],
   "source": [
    "// TODO: Replace <FILL IN> with appropriate code\n",
    "\n",
    "import org.apache.spark.ml.{Pipeline, PipelineModel, PipelineStage}\n",
    "\n",
    "val numPipeline = new Pipeline().setStages(Array(imputer, va,scaler))\n",
    "val catPipeline = new Pipeline().setStages(Array(indexer, encoder))\n",
    "val pipeline = new Pipeline().setStages(Array(numPipeline, catPipeline))\n",
    "val newHousing = pipeline.fit(renamedHousing).transform(renamedHousing)\n",
    "\n",
    "newHousing.show(5)"
   ]
  },
  {
   "cell_type": "markdown",
   "metadata": {},
   "source": [
    "Now, use `VectorAssembler` to put all attributes of the final dataset `newHousing` into a big vector, and call the new column `features`."
   ]
  },
  {
   "cell_type": "code",
   "execution_count": null,
   "metadata": {},
   "outputs": [],
   "source": []
  },
  {
   "cell_type": "code",
   "execution_count": 70,
   "metadata": {},
   "outputs": [
    {
     "name": "stdout",
     "output_type": "stream",
     "text": [
      "[Ljava.lang.String;@2aea4b2e\n",
      "+--------------------+--------+\n",
      "|            features|   label|\n",
      "+--------------------+--------+\n",
      "|[-61.007269596069...|452600.0|\n",
      "|[-61.002278409814...|358500.0|\n",
      "|[-61.012260782324...|352100.0|\n",
      "|[-61.017251968579...|341300.0|\n",
      "|[-61.017251968579...|342200.0|\n",
      "+--------------------+--------+\n",
      "only showing top 5 rows\n",
      "\n"
     ]
    },
    {
     "data": {
      "text/plain": [
       "cols = Array(scalar, catEncode)\n",
       "va2 = vecAssembler_4f39505f1e29\n",
       "dataset = [features: vector, label: double]\n"
      ]
     },
     "metadata": {},
     "output_type": "display_data"
    },
    {
     "data": {
      "text/plain": [
       "[features: vector, label: double]"
      ]
     },
     "execution_count": 70,
     "metadata": {},
     "output_type": "execute_result"
    }
   ],
   "source": [
    "// TODO: Replace <FILL IN> with appropriate code\n",
    "\n",
    "//val cols = newHousing.columns.filter(_ != colCat)\n",
    "val cols=Array(\"scalar\",\"catEncode\")\n",
    "println(cols);\n",
    "val va2 = new VectorAssembler().setInputCols(cols).setOutputCol(\"features\")\n",
    "val dataset = va2.transform(newHousing).select(\"features\", \"label\")\n",
    "\n",
    "dataset.show(5)"
   ]
  },
  {
   "cell_type": "markdown",
   "metadata": {},
   "source": [
    "---\n",
    "# 5. Make a model\n",
    "Here we going to make four different regression models:\n",
    "* Linear regression model\n",
    "* Decission tree regression\n",
    "* Random forest regression\n",
    "* Gradient-booster forest regression\n",
    "\n",
    "But, before giving the data to train a Machine Learning model, let's first split the data into training dataset (`trainSet`) with 80% of the whole data, and test dataset (`testSet`) with 20% of it."
   ]
  },
  {
   "cell_type": "code",
   "execution_count": 71,
   "metadata": {},
   "outputs": [
    {
     "name": "stdout",
     "output_type": "stream",
     "text": [
      "+--------------------+--------+\n",
      "|            features|   label|\n",
      "+--------------------+--------+\n",
      "|[-62.040445150874...|103600.0|\n",
      "|[-61.980550915813...|107000.0|\n",
      "|[-61.980550915813...| 67000.0|\n",
      "|[-61.975559729558...| 81300.0|\n",
      "|[-61.975559729558...| 62500.0|\n",
      "|[-61.975559729558...|109400.0|\n",
      "|[-61.970568543303...| 85400.0|\n",
      "|[-61.970568543303...| 75500.0|\n",
      "|[-61.970568543303...| 69500.0|\n",
      "|[-61.970568543303...| 75000.0|\n",
      "|[-61.955594984538...| 86900.0|\n",
      "|[-61.945612612028...| 96100.0|\n",
      "|[-61.945612612028...| 81700.0|\n",
      "|[-61.940621425772...| 92600.0|\n",
      "|[-61.935630239517...| 87500.0|\n",
      "|[-61.935630239517...|105800.0|\n",
      "|[-61.935630239517...| 99600.0|\n",
      "|[-61.930639053262...|150000.0|\n",
      "|[-61.895700749477...| 75600.0|\n",
      "|[-61.810850583140...| 74000.0|\n",
      "+--------------------+--------+\n",
      "only showing top 20 rows\n",
      "\n"
     ]
    },
    {
     "data": {
      "text/plain": [
       "trainSet = [features: vector, label: double]\n",
       "testSet = [features: vector, label: double]\n"
      ]
     },
     "metadata": {},
     "output_type": "display_data"
    },
    {
     "data": {
      "text/plain": [
       "[features: vector, label: double]"
      ]
     },
     "execution_count": 71,
     "metadata": {},
     "output_type": "execute_result"
    }
   ],
   "source": [
    "// TODO: Replace <FILL IN> with appropriate code\n",
    "val Array(trainSet, testSet) = dataset.randomSplit(Array(0.8, 0.2))\n",
    "\n",
    "testSet.show()"
   ]
  },
  {
   "cell_type": "markdown",
   "metadata": {},
   "source": [
    "## 5.1. Linear regression model\n",
    "Now, train a Linear Regression model using the `LinearRegression` class. Then, print the coefficients and intercept of the model, as well as the summary of the model over the training set by calling the `summary` method."
   ]
  },
  {
   "cell_type": "code",
   "execution_count": 72,
   "metadata": {},
   "outputs": [
    {
     "name": "stdout",
     "output_type": "stream",
     "text": [
      "Coefficients: [-54080.65702468992,-54786.98107947752,13704.419413109707,7765.243730495444,5884.992234270932,-45034.45920756295,36589.782478416775,78837.69261220499,4865.093837480598,15809.37739159288,311.40257418509253,-166783.74064588608,-201656.30542965676,-162230.18420913685,-170657.03635468753], Intercept: -2198138.5121909687\n",
      "RMSE: 67897.7352489894\n"
     ]
    },
    {
     "data": {
      "text/plain": [
       "lr = linReg_2d1b3c124310\n",
       "lrModel = linReg_2d1b3c124310\n",
       "trainingSummary = org.apache.spark.ml.regression.LinearRegressionTrainingSummary@4cf05f4e\n"
      ]
     },
     "metadata": {},
     "output_type": "display_data"
    },
    {
     "data": {
      "text/plain": [
       "org.apache.spark.ml.regression.LinearRegressionTrainingSummary@4cf05f4e"
      ]
     },
     "execution_count": 72,
     "metadata": {},
     "output_type": "execute_result"
    }
   ],
   "source": [
    "// TODO: Replace <FILL IN> with appropriate code\n",
    "\n",
    "import org.apache.spark.ml.regression.LinearRegression\n",
    "\n",
    "// train the model\n",
    "val lr = new LinearRegression().setMaxIter(10)\n",
    ".setFeaturesCol(\"features\").setLabelCol(\"label\").setSolver(\"normal\")\n",
    "val lrModel = lr.fit(trainSet)\n",
    "val trainingSummary = lrModel.summary\n",
    "\n",
    "println(s\"Coefficients: ${lrModel.coefficients}, Intercept: ${lrModel.intercept}\")\n",
    "println(s\"RMSE: ${trainingSummary.rootMeanSquaredError}\")"
   ]
  },
  {
   "cell_type": "markdown",
   "metadata": {},
   "source": [
    "Now, use `RegressionEvaluator` to measure the root-mean-square-erroe (RMSE) of the model on the test dataset."
   ]
  },
  {
   "cell_type": "code",
   "execution_count": 73,
   "metadata": {},
   "outputs": [
    {
     "name": "stdout",
     "output_type": "stream",
     "text": [
      "+------------------+--------+--------------------+\n",
      "|        prediction|   label|            features|\n",
      "+------------------+--------+--------------------+\n",
      "|143053.50076636067|103600.0|[-62.040445150874...|\n",
      "|180206.25448934734|107000.0|[-61.980550915813...|\n",
      "| 148208.4421245549| 67000.0|[-61.980550915813...|\n",
      "| 140717.0423596762| 81300.0|[-61.975559729558...|\n",
      "|159266.70354691474| 62500.0|[-61.975559729558...|\n",
      "+------------------+--------+--------------------+\n",
      "only showing top 5 rows\n",
      "\n",
      "Root Mean Squared Error (RMSE) on test data = 67973.60239352743\n"
     ]
    },
    {
     "data": {
      "text/plain": [
       "predictions = [features: vector, label: double ... 1 more field]\n",
       "evaluator = regEval_a535f682f68b\n",
       "rmse = 67973.60239352743\n"
      ]
     },
     "metadata": {},
     "output_type": "display_data"
    },
    {
     "data": {
      "text/plain": [
       "67973.60239352743"
      ]
     },
     "execution_count": 73,
     "metadata": {},
     "output_type": "execute_result"
    }
   ],
   "source": [
    "// TODO: Replace <FILL IN> with appropriate code\n",
    "\n",
    "import org.apache.spark.ml.evaluation.RegressionEvaluator\n",
    "\n",
    "// make predictions on the test data\n",
    "val predictions = lrModel.transform(testSet)\n",
    "predictions.select(\"prediction\", \"label\", \"features\").show(5)\n",
    "\n",
    "// select (prediction, true label) and compute test error.\n",
    "val evaluator = new RegressionEvaluator().setMetricName(\"rmse\")\n",
    ".setPredictionCol(\"prediction\")\n",
    ".setLabelCol(\"label\")\n",
    "val rmse = evaluator.evaluate(predictions)\n",
    "println(s\"Root Mean Squared Error (RMSE) on test data = $rmse\")"
   ]
  },
  {
   "cell_type": "markdown",
   "metadata": {},
   "source": [
    "## 5.2. Decision tree regression\n",
    "Repeat what you have done on Regression Model to build a Decision Tree model. Use the `DecisionTreeRegressor` to make a model and then measure its RMSE on the test dataset."
   ]
  },
  {
   "cell_type": "code",
   "execution_count": 74,
   "metadata": {},
   "outputs": [
    {
     "name": "stdout",
     "output_type": "stream",
     "text": [
      "+------------------+--------+--------------------+\n",
      "|        prediction|   label|            features|\n",
      "+------------------+--------+--------------------+\n",
      "|175278.03280609255|103600.0|[-62.040445150874...|\n",
      "|175278.03280609255|107000.0|[-61.980550915813...|\n",
      "| 144759.2406311637| 67000.0|[-61.980550915813...|\n",
      "| 144759.2406311637| 81300.0|[-61.975559729558...|\n",
      "|151033.56890459365| 62500.0|[-61.975559729558...|\n",
      "+------------------+--------+--------------------+\n",
      "only showing top 5 rows\n",
      "\n",
      "Root Mean Squared Error (RMSE) on test data = 67963.45058575872\n"
     ]
    },
    {
     "data": {
      "text/plain": [
       "dt = dtr_8169d0a8ba8c\n",
       "dtModel = DecisionTreeRegressionModel (uid=dtr_8169d0a8ba8c) of depth 5 with 63 nodes\n",
       "predictions = [features: vector, label: double ... 1 more field]\n",
       "evaluator = regEval_5a576dc55273\n",
       "rmse = 67963.45058575872\n"
      ]
     },
     "metadata": {},
     "output_type": "display_data"
    },
    {
     "data": {
      "text/plain": [
       "67963.45058575872"
      ]
     },
     "execution_count": 74,
     "metadata": {},
     "output_type": "execute_result"
    }
   ],
   "source": [
    "// TODO: Replace <FILL IN> with appropriate code\n",
    "\n",
    "import org.apache.spark.ml.regression.DecisionTreeRegressor\n",
    "import org.apache.spark.ml.evaluation.RegressionEvaluator\n",
    "\n",
    "val dt = new DecisionTreeRegressor().setLabelCol(\"label\").setFeaturesCol(\"features\")\n",
    "\n",
    "// train the model\n",
    "val dtModel = dt.fit(trainSet)\n",
    "\n",
    "// make predictions on the test data\n",
    "val predictions = dtModel.transform(testSet)\n",
    "predictions.select(\"prediction\", \"label\", \"features\").show(5)\n",
    "\n",
    "// select (prediction, true label) and compute test error\n",
    "val evaluator = new RegressionEvaluator().setMetricName(\"rmse\")\n",
    "\n",
    "val rmse = evaluator.evaluate(predictions)\n",
    "println(s\"Root Mean Squared Error (RMSE) on test data = $rmse\")"
   ]
  },
  {
   "cell_type": "markdown",
   "metadata": {},
   "source": [
    "## 5.3. Random forest regression\n",
    "Let's try the test error on a Random Forest Model. Youcan use the `RandomForestRegressor` to make a Random Forest model."
   ]
  },
  {
   "cell_type": "code",
   "execution_count": 75,
   "metadata": {},
   "outputs": [
    {
     "data": {
      "text/plain": [
       "Name: Compile Error\n",
       "Message: <console>:64: error: value < is not a member of org.apache.spark.ml.regression.RandomForestRegressor\n",
       "       val rf = new RandomForestRegressor().<FILL IN>\n",
       "                                            ^\n",
       "<console>:64: error: not found: value IN\n",
       "       val rf = new RandomForestRegressor().<FILL IN>\n",
       "                                                  ^\n",
       "<console>:74: error: value < is not a member of org.apache.spark.ml.evaluation.RegressionEvaluator\n",
       "       val evaluator = new RegressionEvaluator().<FILL IN>\n",
       "                                                 ^\n",
       "<console>:74: error: not found: value IN\n",
       "       val evaluator = new RegressionEvaluator().<FILL IN>\n",
       "                                                       ^\n",
       "\n",
       "StackTrace: "
      ]
     },
     "execution_count": 75,
     "metadata": {},
     "output_type": "execute_result"
    }
   ],
   "source": [
    "// TODO: Replace <FILL IN> with appropriate code\n",
    "\n",
    "import org.apache.spark.ml.regression.RandomForestRegressor\n",
    "import org.apache.spark.ml.evaluation.RegressionEvaluator\n",
    "\n",
    "val rf = new RandomForestRegressor().<FILL IN>\n",
    "\n",
    "// train the model\n",
    "val rfModel = rf.<FILL IN>\n",
    "\n",
    "// make predictions on the test data\n",
    "val predictions = rfModel.<FILL IN>\n",
    "predictions.select(\"prediction\", \"label\", \"features\").show(5)\n",
    "\n",
    "// select (prediction, true label) and compute test error\n",
    "val evaluator = new RegressionEvaluator().<FILL IN>\n",
    "val rmse = evaluator.<FILL IN>\n",
    "println(s\"Root Mean Squared Error (RMSE) on test data = $rmse\")"
   ]
  },
  {
   "cell_type": "markdown",
   "metadata": {},
   "source": [
    "## 5.4. Gradient-boosted tree regression\n",
    "Fianlly, we want to build a Gradient-boosted Tree Regression model and test the RMSE of the test data. Use the `GBTRegressor` to build the model."
   ]
  },
  {
   "cell_type": "code",
   "execution_count": 76,
   "metadata": {},
   "outputs": [
    {
     "data": {
      "text/plain": [
       "Name: Compile Error\n",
       "Message: <console>:64: error: value < is not a member of org.apache.spark.ml.regression.GBTRegressor\n",
       "       val gb = new GBTRegressor().<FILL IN>\n",
       "                                   ^\n",
       "<console>:64: error: not found: value IN\n",
       "       val gb = new GBTRegressor().<FILL IN>\n",
       "                                         ^\n",
       "<console>:74: error: value < is not a member of org.apache.spark.ml.evaluation.RegressionEvaluator\n",
       "       val evaluator = new RegressionEvaluator().<FILL IN>\n",
       "                                                 ^\n",
       "<console>:74: error: not found: value IN\n",
       "       val evaluator = new RegressionEvaluator().<FILL IN>\n",
       "                                                       ^\n",
       "\n",
       "StackTrace: "
      ]
     },
     "execution_count": 76,
     "metadata": {},
     "output_type": "execute_result"
    }
   ],
   "source": [
    "// TODO: Replace <FILL IN> with appropriate code\n",
    "\n",
    "import org.apache.spark.ml.regression.GBTRegressor\n",
    "import org.apache.spark.ml.evaluation.RegressionEvaluator\n",
    "\n",
    "val gb = new GBTRegressor().<FILL IN>\n",
    "\n",
    "// train the model\n",
    "val gbModel = gb.<FILL IN>\n",
    "\n",
    "// make predictions on the test data\n",
    "val predictions = gbModel.<FILL IN>\n",
    "predictions.select(\"prediction\", \"label\", \"features\").show(5)\n",
    "\n",
    "// select (prediction, true label) and compute test error\n",
    "val evaluator = new RegressionEvaluator().<FILL IN>\n",
    "val rmse = evaluator.<FILL IN>\n",
    "println(s\"Root Mean Squared Error (RMSE) on test data = $rmse\")"
   ]
  },
  {
   "cell_type": "markdown",
   "metadata": {},
   "source": [
    "---\n",
    "# 6. Hyperparameter tuning\n",
    "An important task in Machie Learning is model selection, or using data to find the best model or parameters for a given task. This is also called tuning. Tuning may be done for individual Estimators such as LinearRegression, or for entire Pipelines which include multiple algorithms, featurization, and other steps. Users can tune an entire Pipeline at once, rather than tuning each element in the Pipeline separately. MLlib supports model selection tools, such as `CrossValidator`. These tools require the following items:\n",
    "* Estimator: algorithm or Pipeline to tune (`setEstimator`)\n",
    "* Set of ParamMaps: parameters to choose from, sometimes called a \"parameter grid\" to search over (`setEstimatorParamMaps`)\n",
    "* Evaluator: metric to measure how well a fitted Model does on held-out test data (`setEvaluator`)\n",
    "\n",
    "`CrossValidator` begins by splitting the dataset into a set of folds, which are used as separate training and test datasets. For example with `k=3` folds, `CrossValidator` will generate 3 (training, test) dataset pairs, each of which uses 2/3 of the data for training and 1/3 for testing. To evaluate a particular `ParamMap`, `CrossValidator` computes the average evaluation metric for the 3 Models produced by fitting the Estimator on the 3 different (training, test) dataset pairs. After identifying the best `ParamMap`, `CrossValidator` finally re-fits the Estimator using the best ParamMap and the entire dataset.\n",
    "\n",
    "Below, use the `CrossValidator` to select the best Random Forest model. To do so, you need to define a grid of parameters. Let's say we want to do the search among the different number of trees (1, 5, and 10), and different tree depth (5, 10, and 15)."
   ]
  },
  {
   "cell_type": "code",
   "execution_count": 77,
   "metadata": {},
   "outputs": [
    {
     "data": {
      "text/plain": [
       "Name: Compile Error\n",
       "Message: <console>:9: error: in XML literal: '=' expected instead of '>'\n",
       "val evaluator = new RegressionEvaluator().setLabelCol(\"label\").setPredictionCol(\"prediction\").setMetricName(<FILL IN>)\n",
       "                                                                                                                    ^\n",
       "<console>:9: error: in XML literal: ' or \" delimited attribute value or '{' scala-expr '}' expected\n",
       "val evaluator = new RegressionEvaluator().setLabelCol(\"label\").setPredictionCol(\"prediction\").setMetricName(<FILL IN>)\n",
       "                                                                                                                     ^\n",
       "<console>:10: error: in XML literal: '=' expected instead of 'c'\n",
       "val cv = new CrossValidator().<FILL IN>\n",
       "    ^\n",
       "<console>:10: error: in XML literal: ' or \" delimited attribute value or '{' scala-expr '}' expected\n",
       "val cv = new CrossValidator().<FILL IN>\n",
       "     ^\n",
       "<console>:10: error: in XML literal: '>' expected instead of '='\n",
       "val cv = new CrossValidator().<FILL IN>\n",
       "       ^\n",
       "<console>:10: error: in XML literal: '=' expected instead of '>'\n",
       "val cv = new CrossValidator().<FILL IN>\n",
       "                                      ^\n",
       "<console>:11: error: in XML literal: ' or \" delimited attribute value or '{' scala-expr '}' expected\n",
       "val cvModel = cv.<FILL IN>\n",
       "^\n",
       "<console>:11: error: in XML literal: whitespace expected\n",
       "val cvModel = cv.<FILL IN>\n",
       " ^\n",
       "<console>:11: error: in XML literal: '=' expected instead of 'c'\n",
       "val cvModel = cv.<FILL IN>\n",
       "    ^\n",
       "<console>:11: error: in XML literal: ' or \" delimited attribute value or '{' scala-expr '}' expected\n",
       "val cvModel = cv.<FILL IN>\n",
       "     ^\n",
       "<console>:11: error: in XML literal: whitespace expected\n",
       "val cvModel = cv.<FILL IN>\n",
       "      ^\n",
       "<console>:11: error: in XML literal: ' or \" delimited attribute value or '{' scala-expr '}' expected\n",
       "val cvModel = cv.<FILL IN>\n",
       "              ^\n",
       "<console>:11: error: in XML literal: whitespace expected\n",
       "val cvModel = cv.<FILL IN>\n",
       "               ^\n",
       "<console>:11: error: in XML literal: '>' expected instead of '.'\n",
       "val cvModel = cv.<FILL IN>\n",
       "                ^\n",
       "<console>:11: error: in XML literal: '=' expected instead of '>'\n",
       "val cvModel = cv.<FILL IN>\n",
       "                         ^\n",
       "<console>:13: error: in XML literal: ' or \" delimited attribute value or '{' scala-expr '}' expected\n",
       "val predictions = cvModel.<FILL IN>\n",
       "^\n",
       "<console>:13: error: in XML literal: whitespace expected\n",
       "val predictions = cvModel.<FILL IN>\n",
       " ^\n",
       "<console>:13: error: in XML literal: '=' expected instead of 'p'\n",
       "val predictions = cvModel.<FILL IN>\n",
       "    ^\n",
       "<console>:13: error: in XML literal: ' or \" delimited attribute value or '{' scala-expr '}' expected\n",
       "val predictions = cvModel.<FILL IN>\n",
       "     ^\n",
       "<console>:13: error: in XML literal: whitespace expected\n",
       "val predictions = cvModel.<FILL IN>\n",
       "      ^\n",
       "<console>:13: error: in XML literal: ' or \" delimited attribute value or '{' scala-expr '}' expected\n",
       "val predictions = cvModel.<FILL IN>\n",
       "                  ^\n",
       "<console>:13: error: in XML literal: whitespace expected\n",
       "val predictions = cvModel.<FILL IN>\n",
       "                   ^\n",
       "<console>:13: error: in XML literal: '=' expected instead of '<'\n",
       "val predictions = cvModel.<FILL IN>\n",
       "                          ^\n",
       "<console>:13: error: in XML literal: ' or \" delimited attribute value or '{' scala-expr '}' expected\n",
       "val predictions = cvModel.<FILL IN>\n",
       "                           ^\n",
       "<console>:13: error: in XML literal: whitespace expected\n",
       "val predictions = cvModel.<FILL IN>\n",
       "                            ^\n",
       "<console>:13: error: in XML literal: '=' expected instead of 'I'\n",
       "val predictions = cvModel.<FILL IN>\n",
       "                                ^\n",
       "<console>:13: error: in XML literal: ' or \" delimited attribute value or '{' scala-expr '}' expected\n",
       "val predictions = cvModel.<FILL IN>\n",
       "                                 ^\n",
       "<console>:16: error: in XML literal: '=' expected instead of '>'\n",
       "val rmse = evaluator.<FILL IN>\n",
       "                             ^\n",
       "<console>:17: error: in XML literal: ' or \" delimited attribute value or '{' scala-expr '}' expected\n",
       "println(s\"Root Mean Squared Error (RMSE) on test data = $rmse\")\n",
       "^\n",
       "<console>:17: error: in XML literal: whitespace expected\n",
       "println(s\"Root Mean Squared Error (RMSE) on test data = $rmse\")\n",
       " ^\n",
       "<console>:17: error: in XML literal: '=' expected instead of '('\n",
       "println(s\"Root Mean Squared Error (RMSE) on test data = $rmse\")\n",
       "       ^\n",
       "<console>:17: error: in XML literal: ' or \" delimited attribute value or '{' scala-expr '}' expected\n",
       "println(s\"Root Mean Squared Error (RMSE) on test data = $rmse\")\n",
       "        ^\n",
       "<console>:17: error: in XML literal: whitespace expected\n",
       "println(s\"Root Mean Squared Error (RMSE) on test data = $rmse\")\n",
       "         ^\n",
       "<console>:17: error: in XML literal: '=' expected instead of 'M'\n",
       "println(s\"Root Mean Squared Error (RMSE) on test data = $rmse\")\n",
       "               ^\n",
       "<console>:17: error: in XML literal: ' or \" delimited attribute value or '{' scala-expr '}' expected\n",
       "println(s\"Root Mean Squared Error (RMSE) on test data = $rmse\")\n",
       "                ^\n",
       "<console>:17: error: in XML literal: whitespace expected\n",
       "println(s\"Root Mean Squared Error (RMSE) on test data = $rmse\")\n",
       "                 ^\n",
       "<console>:17: error: in XML literal: '=' expected instead of 'S'\n",
       "println(s\"Root Mean Squared Error (RMSE) on test data = $rmse\")\n",
       "                    ^\n",
       "<console>:17: error: in XML literal: ' or \" delimited attribute value or '{' scala-expr '}' expected\n",
       "println(s\"Root Mean Squared Error (RMSE) on test data = $rmse\")\n",
       "                     ^\n",
       "<console>:17: error: in XML literal: whitespace expected\n",
       "println(s\"Root Mean Squared Error (RMSE) on test data = $rmse\")\n",
       "                      ^\n",
       "<console>:17: error: in XML literal: '=' expected instead of 'E'\n",
       "println(s\"Root Mean Squared Error (RMSE) on test data = $rmse\")\n",
       "                            ^\n",
       "<console>:17: error: in XML literal: ' or \" delimited attribute value or '{' scala-expr '}' expected\n",
       "println(s\"Root Mean Squared Error (RMSE) on test data = $rmse\")\n",
       "                             ^\n",
       "<console>:17: error: in XML literal: whitespace expected\n",
       "println(s\"Root Mean Squared Error (RMSE) on test data = $rmse\")\n",
       "                              ^\n",
       "<console>:17: error: in XML literal: '=' expected instead of '('\n",
       "println(s\"Root Mean Squared Error (RMSE) on test data = $rmse\")\n",
       "                                  ^\n",
       "<console>:17: error: in XML literal: ' or \" delimited attribute value or '{' scala-expr '}' expected\n",
       "println(s\"Root Mean Squared Error (RMSE) on test data = $rmse\")\n",
       "                                   ^\n",
       "<console>:17: error: in XML literal: whitespace expected\n",
       "println(s\"Root Mean Squared Error (RMSE) on test data = $rmse\")\n",
       "                                    ^\n",
       "<console>:17: error: in XML literal: '=' expected instead of ')'\n",
       "println(s\"Root Mean Squared Error (RMSE) on test data = $rmse\")\n",
       "                                       ^\n",
       "<console>:17: error: in XML literal: ' or \" delimited attribute value or '{' scala-expr '}' expected\n",
       "println(s\"Root Mean Squared Error (RMSE) on test data = $rmse\")\n",
       "                                         ^\n",
       "<console>:17: error: in XML literal: whitespace expected\n",
       "println(s\"Root Mean Squared Error (RMSE) on test data = $rmse\")\n",
       "                                          ^\n",
       "<console>:17: error: in XML literal: '>' expected instead of ' '\n",
       "println(s\"Root Mean Squared Error (RMSE) on test data = $rmse\")\n",
       "                                           ^\n",
       "\n",
       "StackTrace: "
      ]
     },
     "execution_count": 77,
     "metadata": {},
     "output_type": "execute_result"
    }
   ],
   "source": [
    "// TODO: Replace <FILL IN> with appropriate code\n",
    "\n",
    "import org.apache.spark.ml.tuning.ParamGridBuilder\n",
    "import org.apache.spark.ml.evaluation.RegressionEvaluator\n",
    "import org.apache.spark.ml.tuning.CrossValidator\n",
    "\n",
    "val paramGrid = new ParamGridBuilder().<FILL IN>\n",
    "\n",
    "val evaluator = new RegressionEvaluator().setLabelCol(\"label\").setPredictionCol(\"prediction\").setMetricName(<FILL IN>)\n",
    "val cv = new CrossValidator().<FILL IN>\n",
    "val cvModel = cv.<FILL IN>\n",
    "\n",
    "val predictions = cvModel.<FILL IN>\n",
    "predictions.select(\"prediction\", \"label\", \"features\").show(5)\n",
    "\n",
    "val rmse = evaluator.<FILL IN>\n",
    "println(s\"Root Mean Squared Error (RMSE) on test data = $rmse\")"
   ]
  },
  {
   "cell_type": "markdown",
   "metadata": {},
   "source": [
    "---\n",
    "# 7. Custom transformer\n",
    "At the end of part two, we added extra columns to the `housing` dataset. Here, we are going to implement a Transformer to do the same task. The Transformer should take the name of two input columns `inputCol1` and `inputCol2`, as well as the name of ouput column `outputCol`. It, then, computes `inputCol1` divided by `inputCol2`, and adds its result as a new column to the dataset. The details of the implemeting a custom Tranfomer is explained [here](https://www.oreilly.com/learning/extend-spark-ml-for-your-own-modeltransformer-types). Please read it before before starting to implement it.\n",
    "\n",
    "First, define the given parameters of the Transformer and implement a method to validate their schemas (`StructType`)."
   ]
  },
  {
   "cell_type": "code",
   "execution_count": 78,
   "metadata": {},
   "outputs": [
    {
     "data": {
      "text/plain": [
       "Name: Compile Error\n",
       "Message: <console>:5: error: in XML literal: '=' expected instead of '>'\n",
       "    final val inputCol1 = <FILL IN>\n",
       "                                  ^\n",
       "<console>:6: error: in XML literal: ' or \" delimited attribute value or '{' scala-expr '}' expected\n",
       "    final val inputCol2 = <FILL IN>\n",
       "    ^\n",
       "<console>:6: error: in XML literal: whitespace expected\n",
       "    final val inputCol2 = <FILL IN>\n",
       "     ^\n",
       "<console>:6: error: in XML literal: '=' expected instead of 'v'\n",
       "    final val inputCol2 = <FILL IN>\n",
       "          ^\n",
       "<console>:6: error: in XML literal: ' or \" delimited attribute value or '{' scala-expr '}' expected\n",
       "    final val inputCol2 = <FILL IN>\n",
       "           ^\n",
       "<console>:6: error: in XML literal: whitespace expected\n",
       "    final val inputCol2 = <FILL IN>\n",
       "            ^\n",
       "<console>:6: error: in XML literal: '>' expected instead of ' '\n",
       "    final val inputCol2 = <FILL IN>\n",
       "             ^\n",
       "<console>:6: error: in XML literal: '=' expected instead of '>'\n",
       "    final val inputCol2 = <FILL IN>\n",
       "                                  ^\n",
       "<console>:7: error: in XML literal: ' or \" delimited attribute value or '{' scala-expr '}' expected\n",
       "    final val outputCol = <FILL IN>\n",
       "    ^\n",
       "<console>:7: error: in XML literal: whitespace expected\n",
       "    final val outputCol = <FILL IN>\n",
       "     ^\n",
       "<console>:7: error: in XML literal: '=' expected instead of 'v'\n",
       "    final val outputCol = <FILL IN>\n",
       "          ^\n",
       "<console>:7: error: in XML literal: ' or \" delimited attribute value or '{' scala-expr '}' expected\n",
       "    final val outputCol = <FILL IN>\n",
       "           ^\n",
       "<console>:7: error: in XML literal: whitespace expected\n",
       "    final val outputCol = <FILL IN>\n",
       "            ^\n",
       "<console>:7: error: in XML literal: '>' expected instead of ' '\n",
       "    final val outputCol = <FILL IN>\n",
       "             ^\n",
       "<console>:7: error: in XML literal: '=' expected instead of '>'\n",
       "    final val outputCol = <FILL IN>\n",
       "                                  ^\n",
       "<console>:9: error: in XML literal: ' or \" delimited attribute value or '{' scala-expr '}' expected\n",
       "  protected def validateAndTransformSchema(schema: StructType): StructType = {\n",
       "  ^\n",
       "<console>:9: error: in XML literal: whitespace expected\n",
       "  protected def validateAndTransformSchema(schema: StructType): StructType = {\n",
       "   ^\n",
       "<console>:9: error: in XML literal: '=' expected instead of 'd'\n",
       "  protected def validateAndTransformSchema(schema: StructType): StructType = {\n",
       "            ^\n",
       "<console>:9: error: in XML literal: ' or \" delimited attribute value or '{' scala-expr '}' expected\n",
       "  protected def validateAndTransformSchema(schema: StructType): StructType = {\n",
       "             ^\n",
       "<console>:9: error: in XML literal: whitespace expected\n",
       "  protected def validateAndTransformSchema(schema: StructType): StructType = {\n",
       "              ^\n",
       "<console>:9: error: in XML literal: '>' expected instead of ' '\n",
       "  protected def validateAndTransformSchema(schema: StructType): StructType = {\n",
       "               ^\n",
       "<console>:10: error: in XML literal: '=' expected instead of '>'\n",
       "    <FILL IN>\n",
       "            ^\n",
       "<console>:11: error: in XML literal: ' or \" delimited attribute value or '{' scala-expr '}' expected\n",
       "  }\n",
       "  ^\n",
       "<console>:12: error: in XML literal: '>' expected instead of '}'\n",
       "}\n",
       "^\n",
       "<console>:12: error: in XML literal:  expected end of Scala block\n",
       "}\n",
       " ^\n",
       "\n",
       "StackTrace: "
      ]
     },
     "execution_count": 78,
     "metadata": {},
     "output_type": "execute_result"
    }
   ],
   "source": [
    "import org.apache.spark.sql.types.{StructField, StructType, DoubleType}\n",
    "import org.apache.spark.ml.param.{ParamMap, Param, Params}\n",
    "\n",
    "trait MyParams extends Params {\n",
    "    final val inputCol1 = <FILL IN>\n",
    "    final val inputCol2 = <FILL IN>\n",
    "    final val outputCol = <FILL IN>\n",
    "    \n",
    "  protected def validateAndTransformSchema(schema: StructType): StructType = {\n",
    "    <FILL IN>  \n",
    "  }\n",
    "}\n"
   ]
  },
  {
   "cell_type": "markdown",
   "metadata": {},
   "source": [
    "Then, extend the class `Transformer`, and implement its setter functions for the input and output columns, and call then `setInputCol1`, `setInputCol2`, and `setOutputCol`. Morever, you need to override the methods `copy`, `transformSchema`, and the `transform`. The details of what you need to cover in these methods is given [here](https://www.oreilly.com/learning/extend-spark-ml-for-your-own-modeltransformer-types)."
   ]
  },
  {
   "cell_type": "code",
   "execution_count": 79,
   "metadata": {},
   "outputs": [
    {
     "data": {
      "text/plain": [
       "Name: Compile Error\n",
       "Message: <console>:11: error: identifier expected but $XMLSTART$< found.\n",
       "    def setInputCol1(value: String): <FILL IN>\n",
       "                                     ^\n",
       "<console>:13: error: identifier expected but $XMLSTART$< found.\n",
       "    def setInputCol2(value: String): <FILL IN>\n",
       "                                     ^\n",
       "<console>:15: error: identifier expected but $XMLSTART$< found.\n",
       "    def setOutputCol(value: String): <FILL IN>\n",
       "                                     ^\n",
       "<console>:17: error: '=' expected but $XMLSTART$< found.\n",
       "    override def copy(extra: ParamMap) <FILL IN>\n",
       "                                       ^\n",
       "<console>:19: error: illegal start of simple expression\n",
       "    override def transformSchema(schema: StructType) <FILL IN>\n",
       "^\n",
       "<console>:19: error: '=' expected but $XMLSTART$< found.\n",
       "    override def transformSchema(schema: StructType) <FILL IN>\n",
       "                                                     ^\n",
       "<console>:21: error: illegal start of simple expression\n",
       "    override def transform(dataset: Dataset[_]): DataFrame = {\n",
       "^\n",
       "<console>:22: error: in XML literal: '=' expected instead of '>'\n",
       "        <FILL IN>\n",
       "                ^\n",
       "<console>:23: error: in XML literal: ' or \" delimited attribute value or '{' scala-expr '}' expected\n",
       "  }\n",
       "  ^\n",
       "<console>:24: error: in XML literal: '>' expected instead of '}'\n",
       "}\n",
       "^\n",
       "\n",
       "StackTrace: "
      ]
     },
     "execution_count": 79,
     "metadata": {},
     "output_type": "execute_result"
    }
   ],
   "source": [
    "import org.apache.spark.ml.util.Identifiable\n",
    "import org.apache.spark.ml.Transformer\n",
    "import org.apache.spark.ml.param.{ParamMap, Param, Params}\n",
    "import org.apache.spark.sql.{DataFrame, Dataset}\n",
    "import org.apache.spark.sql.types.StructType\n",
    "import org.apache.spark.sql.functions.{col, udf}\n",
    "\n",
    "class MyTransformer(override val uid: String) extends Transformer with MyParams {\n",
    "    def this() = this(Identifiable.randomUID(\"configurablewordcount\"))\n",
    "    \n",
    "    def setInputCol1(value: String): <FILL IN>\n",
    "    \n",
    "    def setInputCol2(value: String): <FILL IN>\n",
    "    \n",
    "    def setOutputCol(value: String): <FILL IN>\n",
    "\n",
    "    override def copy(extra: ParamMap) <FILL IN>\n",
    "\n",
    "    override def transformSchema(schema: StructType) <FILL IN>\n",
    "    \n",
    "    override def transform(dataset: Dataset[_]): DataFrame = {\n",
    "        <FILL IN>\n",
    "  }\n",
    "}"
   ]
  },
  {
   "cell_type": "markdown",
   "metadata": {},
   "source": [
    "Now, an instance of `MyTransformer`, and set the input columns `total_rooms` and `households`, and the output column `rooms_per_household` and run it over the `housing` dataset."
   ]
  },
  {
   "cell_type": "code",
   "execution_count": 80,
   "metadata": {},
   "outputs": [
    {
     "data": {
      "text/plain": [
       "Name: Compile Error\n",
       "Message: <console>:57: error: not found: type MyTransformer\n",
       "       val myTransformer = new MyTransformer().setInputCol1(\"total_rooms\").setInputCol2(\"households\").setOutputCol(\"rooms_per_household\")\n",
       "                               ^\n",
       "\n",
       "StackTrace: "
      ]
     },
     "execution_count": 80,
     "metadata": {},
     "output_type": "execute_result"
    }
   ],
   "source": [
    "val myTransformer = new MyTransformer().setInputCol1(\"total_rooms\").setInputCol2(\"households\").setOutputCol(\"rooms_per_household\")\n",
    "\n",
    "val myDataset = myTransformer.transform(housing).select(\"rooms_per_household\").show(5)"
   ]
  },
  {
   "cell_type": "markdown",
   "metadata": {},
   "source": [
    "---\n",
    "# 8. Custom estimator (predictor)\n",
    "Now, it's time to implement your own linear regression with gradient descent algorithm as a brand new Estimator. The whole code of the Estimator is given to you, and you do not need to implement anything. It is just a sample that shows how to build a custom Estimator.\n",
    "\n",
    "The gradient descent update for linear regression is:\n",
    "$$\n",
    "w_{i+1} = w_{i} - \\alpha_{i} \\sum\\limits_{j=1}^n (w_i^\\top x_j - y_j)x_j\n",
    "$$\n",
    "\n",
    "where $i$ is the iteration number of the gradient descent algorithm, and $j$ identifies the observation. Here, $w$ represents an array of weights that is the same size as the array of features and provides a weight for each of the features when finally computing the label prediction in the form:\n",
    "\n",
    "$$\n",
    "prediction = w^\\top \\cdot\\ x\n",
    "$$\n",
    "\n",
    "where $w$ is the final array of weights computed by the gradient descent, $x$ is the array of features of the observation point and $prediction$ is the label we predict should be associated to this observation.\n",
    "\n",
    "The given `Helper` class implements the helper methods:\n",
    "* `dot`: implements the dot product of two vectors and the dot product of a vector and a scalar\n",
    "* `sum`: implements addition of two vectors\n",
    "* `fill`: creates a vector of predefined size and initialize it with the predefined value\n",
    "\n",
    "What you need to do is to implement the methods of the Linear Regresstion class `LR`, which are\n",
    "* `rmsd`: computes the Root Mean Square Error of a given RDD of tuples of (label, prediction) using the formula:\n",
    "$$\n",
    "rmse = \\sqrt{\\frac{\\sum\\limits_{i=1}^n (label - prediction)^2}{n}}\n",
    "$$\n",
    "* `gradientSummand`: computes the following formula:\n",
    "$$\n",
    "gs_{ij} = (w_i^\\top x_j - y_j)x_j\n",
    "$$\n",
    "* `gradient`: computes the following formula:\n",
    "$$\n",
    "gradient = \\sum\\limits_{j=1}^n gs_{ij}\n",
    "$$"
   ]
  },
  {
   "cell_type": "code",
   "execution_count": 81,
   "metadata": {},
   "outputs": [
    {
     "data": {
      "text/plain": [
       "defined class Instance\n",
       "defined object Helper\n"
      ]
     },
     "metadata": {},
     "output_type": "display_data"
    }
   ],
   "source": [
    "import org.apache.spark.ml.linalg.Vector\n",
    "import org.apache.spark.ml.PredictorParams\n",
    "import org.apache.spark.ml.param.ParamMap\n",
    "import org.apache.spark.ml.util._\n",
    "import org.apache.spark.rdd.RDD\n",
    "import org.apache.spark.sql.Dataset\n",
    "import org.apache.spark.sql.functions._\n",
    "import org.apache.spark.sql.Row\n",
    "import org.apache.spark.ml.linalg.Vectors\n",
    "import org.apache.spark.ml.linalg.Matrices\n",
    "import org.apache.spark.mllib.evaluation.RegressionMetrics\n",
    "import org.apache.spark.ml.{PredictionModel, Predictor}\n",
    "\n",
    "case class Instance(label: Double, features: Vector)\n",
    "\n",
    "object Helper extends Serializable {\n",
    "  def dot(v1: Vector, v2: Vector): Double = {\n",
    "    val m = Matrices.dense(1, v1.size, v1.toArray)\n",
    "    m.multiply(v2).values(0)\n",
    "  }\n",
    "\n",
    "  def dot(v: Vector, s: Double): Vector = {\n",
    "    val baseArray = v.toArray.map(vi => vi * s)\n",
    "    Vectors.dense(baseArray)\n",
    "  }\n",
    "\n",
    "  def sumVectors(v1: Vector, v2: Vector): Vector = {\n",
    "    val baseArray = ((v1.toArray) zip (v2.toArray)).map { case (val1, val2) => val1 + val2 }\n",
    "    Vectors.dense(baseArray)\n",
    "  }\n",
    "\n",
    "  def fillVector(size: Int, fillVal: Double): Vector = Vectors.dense(Array.fill[Double](size)(fillVal));\n",
    "}"
   ]
  },
  {
   "cell_type": "code",
   "execution_count": 82,
   "metadata": {},
   "outputs": [
    {
     "data": {
      "text/plain": [
       "Name: Compile Error\n",
       "Message: <console>:18: error: not found: type RDD\n",
       "         def calcRMSE(labelsAndPreds: RDD[(Double, Double)]): Double = {\n",
       "                                      ^\n",
       "<console>:19: error: not found: type RegressionMetrics\n",
       "           val regressionMetrics = new RegressionMetrics(labelsAndPreds)\n",
       "                                       ^\n",
       "<console>:23: error: type Vector takes type parameters\n",
       "         def gradientSummand(weights: Vector, lp: Instance): Vector = {\n",
       "                                                             ^\n",
       "<console>:23: error: type Vector takes type parameters\n",
       "         def gradientSummand(weights: Vector, lp: Instance): Vector = {\n",
       "                                      ^\n",
       "<console>:26: error: not found: value Vectors\n",
       "           return Vectors.dense(seq.toArray)\n",
       "                  ^\n",
       "<console>:29: error: type Vector takes type parameters\n",
       "         def linregGradientDescent(trainData: RDD[Instance], numIters: Int): (Vector, Array[Double]) = {\n",
       "                                                                              ^\n",
       "<console>:29: error: not found: type RDD\n",
       "         def linregGradientDescent(trainData: RDD[Instance], numIters: Int): (Vector, Array[Double]) = {\n",
       "                                              ^\n",
       "\n",
       "StackTrace: "
      ]
     },
     "execution_count": 82,
     "metadata": {},
     "output_type": "execute_result"
    }
   ],
   "source": [
    "class LR() extends Serializable {\n",
    "  def calcRMSE(labelsAndPreds: RDD[(Double, Double)]): Double = {\n",
    "    val regressionMetrics = new RegressionMetrics(labelsAndPreds)\n",
    "    regressionMetrics.rootMeanSquaredError\n",
    "  }\n",
    "  \n",
    "  def gradientSummand(weights: Vector, lp: Instance): Vector = {\n",
    "    val mult = (Helper.dot(weights, lp.features) - lp.label)\n",
    "    val seq = (0 to lp.features.size - 1).map(i => lp.features(i) * mult)\n",
    "    return Vectors.dense(seq.toArray)\n",
    "  }\n",
    "  \n",
    "  def linregGradientDescent(trainData: RDD[Instance], numIters: Int): (Vector, Array[Double]) = {\n",
    "    val n = trainData.count()\n",
    "    val d = trainData.take(1)(0).features.size\n",
    "    var w = Helper.fillVector(d, 0)\n",
    "    val alpha = 1.0\n",
    "    val errorTrain = Array.fill[Double](numIters)(0.0)\n",
    "\n",
    "    for (i <- 0 until numIters) {\n",
    "      val labelsAndPredsTrain = trainData.map(lp => (lp.label, Helper.dot(w, lp.features)))\n",
    "      errorTrain(i) = calcRMSE(labelsAndPredsTrain)\n",
    "\n",
    "      val gradient = trainData.map(lp => gradientSummand(w, lp)).reduce((v1, v2) => Helper.sumVectors(v1, v2))\n",
    "      val alpha_i = alpha / (n * scala.math.sqrt(i + 1))\n",
    "      val wAux = Helper.dot(gradient, (-1) * alpha_i)\n",
    "      w = Helper.sumVectors(w, wAux)\n",
    "    }\n",
    "    (w, errorTrain)\n",
    "  }\n",
    "}"
   ]
  },
  {
   "cell_type": "code",
   "execution_count": 83,
   "metadata": {},
   "outputs": [
    {
     "data": {
      "text/plain": [
       "Name: Compile Error\n",
       "Message: <console>:16: error: not found: type PredictionModel\n",
       "         extends PredictionModel[FeaturesType, Model] {\n",
       "                 ^\n",
       "<console>:20: error: type Vector takes type parameters\n",
       "           extends MyLinearModel[Vector, MyLinearModelImpl] {\n",
       "                                 ^\n",
       "<console>:19: error: type Vector takes type parameters\n",
       "       class MyLinearModelImpl(override val uid: String, val weights: Vector, val trainingError: Array[Double])\n",
       "                                                                      ^\n",
       "<console>:22: error: not found: type ParamMap\n",
       "         override def copy(extra: ParamMap): MyLinearModelImpl = defaultCopy(extra)\n",
       "                                  ^\n",
       "<console>:22: error: not found: value defaultCopy\n",
       "         override def copy(extra: ParamMap): MyLinearModelImpl = defaultCopy(extra)\n",
       "                                                                 ^\n",
       "<console>:24: error: type Vector takes type parameters\n",
       "         def predict(features: Vector): Double = {\n",
       "                               ^\n",
       "\n",
       "StackTrace: "
      ]
     },
     "execution_count": 83,
     "metadata": {},
     "output_type": "execute_result"
    }
   ],
   "source": [
    "abstract class MyLinearModel[FeaturesType, Model <: MyLinearModel[FeaturesType, Model]]\n",
    "  extends PredictionModel[FeaturesType, Model] {\n",
    "}\n",
    "\n",
    "class MyLinearModelImpl(override val uid: String, val weights: Vector, val trainingError: Array[Double])\n",
    "    extends MyLinearModel[Vector, MyLinearModelImpl] {\n",
    "\n",
    "  override def copy(extra: ParamMap): MyLinearModelImpl = defaultCopy(extra)\n",
    "\n",
    "  def predict(features: Vector): Double = {\n",
    "    println(\"Predicting\")\n",
    "    val prediction = Helper.dot(weights, features)\n",
    "    prediction\n",
    "  }\n",
    "}"
   ]
  },
  {
   "cell_type": "code",
   "execution_count": 84,
   "metadata": {},
   "outputs": [
    {
     "data": {
      "text/plain": [
       "Name: Compile Error\n",
       "Message: <console>:34: error: not found: type MyLinearModel\n",
       "           Model <: MyLinearModel[FeaturesType, Model]]\n",
       "                    ^\n",
       "<console>:39: error: not found: type MyLinearModelImpl\n",
       "           extends MyLinearRegression[Vector, MyLinearRegressionImpl, MyLinearModelImpl] {\n",
       "                                                                      ^\n",
       "<console>:44: error: not found: type MyLinearModelImpl\n",
       "         def train(dataset: Dataset[_]): MyLinearModelImpl = {\n",
       "                                         ^\n",
       "<console>:55: error: not found: type LR\n",
       "           val (weights, trainingError) = new LR().linregGradientDescent(instances, numIters)\n",
       "                                              ^\n",
       "<console>:57: error: not found: type MyLinearModelImpl\n",
       "           new MyLinearModelImpl(uid, weights, trainingError)\n",
       "               ^\n",
       "\n",
       "StackTrace: "
      ]
     },
     "execution_count": 84,
     "metadata": {},
     "output_type": "execute_result"
    }
   ],
   "source": [
    "import org.apache.spark.ml.linalg.Vector\n",
    "import org.apache.spark.ml.PredictorParams\n",
    "import org.apache.spark.ml.param.ParamMap\n",
    "import org.apache.spark.ml.util._\n",
    "import org.apache.spark.rdd.RDD\n",
    "import org.apache.spark.sql.Dataset\n",
    "import org.apache.spark.sql.functions._\n",
    "\n",
    "import org.apache.spark.sql.Row\n",
    "import org.apache.spark.ml.linalg.Vectors\n",
    "import org.apache.spark.ml.linalg.Matrices\n",
    "import org.apache.spark.mllib.evaluation.RegressionMetrics\n",
    "import org.apache.spark.ml.{PredictionModel, Predictor}\n",
    "\n",
    "abstract class MyLinearRegression[\n",
    "    FeaturesType,\n",
    "    Learner <: MyLinearRegression[FeaturesType, Learner, Model],\n",
    "    Model <: MyLinearModel[FeaturesType, Model]]\n",
    "  extends Predictor[FeaturesType, Learner, Model] {\n",
    "}\n",
    "\n",
    "class MyLinearRegressionImpl(override val uid: String)\n",
    "    extends MyLinearRegression[Vector, MyLinearRegressionImpl, MyLinearModelImpl] {\n",
    "  def this() = this(Identifiable.randomUID(\"linReg\"))\n",
    "\n",
    "  override def copy(extra: ParamMap): MyLinearRegressionImpl = defaultCopy(extra)\n",
    "  \n",
    "  def train(dataset: Dataset[_]): MyLinearModelImpl = {\n",
    "    println(\"Training\")\n",
    "\n",
    "    val numIters = 10\n",
    "\n",
    "    val instances: RDD[Instance] = dataset.select(\n",
    "      col($(labelCol)), col($(featuresCol))).rdd.map {\n",
    "        case Row(label: Double, features: Vector) =>\n",
    "          Instance(label, features)\n",
    "      }\n",
    "\n",
    "    val (weights, trainingError) = new LR().linregGradientDescent(instances, numIters)\n",
    "\n",
    "    new MyLinearModelImpl(uid, weights, trainingError)\n",
    "  }\n",
    "}"
   ]
  },
  {
   "cell_type": "code",
   "execution_count": 85,
   "metadata": {},
   "outputs": [
    {
     "data": {
      "text/plain": [
       "Name: Compile Error\n",
       "Message: <console>:81: error: not found: type MyLinearRegressionImpl\n",
       "       val lr = new MyLinearRegressionImpl().setLabelCol(\"label\").setFeaturesCol(\"features\")\n",
       "                    ^\n",
       "\n",
       "StackTrace: "
      ]
     },
     "execution_count": 85,
     "metadata": {},
     "output_type": "execute_result"
    }
   ],
   "source": [
    "import org.apache.spark.ml.evaluation.RegressionEvaluator\n",
    "\n",
    "val lr = new MyLinearRegressionImpl().setLabelCol(\"label\").setFeaturesCol(\"features\")\n",
    "val model = lr.fit(trainSet)\n",
    "val predictions = model.transform(trainSet)\n",
    "predictions.select(\"prediction\", \"label\", \"features\").show(5)\n",
    "\n",
    "// Select (prediction, true label) and compute test error.\n",
    "val evaluator = new RegressionEvaluator().setLabelCol(\"label\").setPredictionCol(\"prediction\").setMetricName(\"rmse\")\n",
    "val rmse = evaluator.evaluate(predictions)\n",
    "println(s\"Root Mean Squared Error (RMSE) on test data = $rmse\")"
   ]
  },
  {
   "cell_type": "markdown",
   "metadata": {},
   "source": [
    "---\n",
    "# 9. An End-to-End Classification Test\n",
    "As the last step, you are given a dataset called `data/ccdefault.csv`. The dataset represents default of credit card clients. It has 30,000 cases and 24 different attributes. More details about the dataset is available at `data/ccdefault.txt`. In this task you should make three models, compare their results and conclude the ideal solution. Here are the suggested steps:\n",
    "1. Load the data.\n",
    "2. Carry out some exploratory analyses (e.g., how various features and the target variable are distributed).\n",
    "3. Train a model to predict the target variable (risk of `default`).\n",
    "  - Employ three different models (logistic regression, decision tree, and random forest).\n",
    "  - Compare the models' performances (e.g., AUC).\n",
    "  - Defend your choice of best model (e.g., what are the strength and weaknesses of each of these models?).\n",
    "4. What more would you do with this data? Anything to help you devise a better solution?"
   ]
  },
  {
   "cell_type": "code",
   "execution_count": 86,
   "metadata": {},
   "outputs": [
    {
     "data": {
      "text/plain": [
       "data = [ID: int, LIMIT_BAL: int ... 23 more fields]\n"
      ]
     },
     "metadata": {},
     "output_type": "display_data"
    },
    {
     "data": {
      "text/plain": [
       "[ID: int, LIMIT_BAL: int ... 23 more fields]"
      ]
     },
     "execution_count": 86,
     "metadata": {},
     "output_type": "execute_result"
    }
   ],
   "source": [
    "val data = spark.read.format(\"csv\").option(\"header\", \"true\").option(\"inferSchema\",\"true\")load(\"data/ccdefault.csv\")"
   ]
  },
  {
   "cell_type": "code",
   "execution_count": 87,
   "metadata": {},
   "outputs": [
    {
     "data": {
      "text/plain": [
       "30000"
      ]
     },
     "execution_count": 87,
     "metadata": {},
     "output_type": "execute_result"
    }
   ],
   "source": [
    "data.count()"
   ]
  },
  {
   "cell_type": "code",
   "execution_count": 88,
   "metadata": {},
   "outputs": [
    {
     "name": "stdout",
     "output_type": "stream",
     "text": [
      "+---+---------+---+---------+--------+---+-----+-----+-----+-----+-----+-----+---------+---------+---------+---------+---------+---------+--------+--------+--------+--------+--------+--------+-------+\n",
      "| ID|LIMIT_BAL|SEX|EDUCATION|MARRIAGE|AGE|PAY_0|PAY_2|PAY_3|PAY_4|PAY_5|PAY_6|BILL_AMT1|BILL_AMT2|BILL_AMT3|BILL_AMT4|BILL_AMT5|BILL_AMT6|PAY_AMT1|PAY_AMT2|PAY_AMT3|PAY_AMT4|PAY_AMT5|PAY_AMT6|DEFAULT|\n",
      "+---+---------+---+---------+--------+---+-----+-----+-----+-----+-----+-----+---------+---------+---------+---------+---------+---------+--------+--------+--------+--------+--------+--------+-------+\n",
      "|  1|    20000|  2|        2|       1| 24|    2|    2|   -1|   -1|   -2|   -2|     3913|     3102|      689|        0|        0|        0|       0|     689|       0|       0|       0|       0|      1|\n",
      "|  2|   120000|  2|        2|       2| 26|   -1|    2|    0|    0|    0|    2|     2682|     1725|     2682|     3272|     3455|     3261|       0|    1000|    1000|    1000|       0|    2000|      1|\n",
      "|  3|    90000|  2|        2|       2| 34|    0|    0|    0|    0|    0|    0|    29239|    14027|    13559|    14331|    14948|    15549|    1518|    1500|    1000|    1000|    1000|    5000|      0|\n",
      "|  4|    50000|  2|        2|       1| 37|    0|    0|    0|    0|    0|    0|    46990|    48233|    49291|    28314|    28959|    29547|    2000|    2019|    1200|    1100|    1069|    1000|      0|\n",
      "|  5|    50000|  1|        2|       1| 57|   -1|    0|   -1|    0|    0|    0|     8617|     5670|    35835|    20940|    19146|    19131|    2000|   36681|   10000|    9000|     689|     679|      0|\n",
      "|  6|    50000|  1|        1|       2| 37|    0|    0|    0|    0|    0|    0|    64400|    57069|    57608|    19394|    19619|    20024|    2500|    1815|     657|    1000|    1000|     800|      0|\n",
      "|  7|   500000|  1|        1|       2| 29|    0|    0|    0|    0|    0|    0|   367965|   412023|   445007|   542653|   483003|   473944|   55000|   40000|   38000|   20239|   13750|   13770|      0|\n",
      "|  8|   100000|  2|        2|       2| 23|    0|   -1|   -1|    0|    0|   -1|    11876|      380|      601|      221|     -159|      567|     380|     601|       0|     581|    1687|    1542|      0|\n",
      "|  9|   140000|  2|        3|       1| 28|    0|    0|    2|    0|    0|    0|    11285|    14096|    12108|    12211|    11793|     3719|    3329|       0|     432|    1000|    1000|    1000|      0|\n",
      "| 10|    20000|  1|        3|       2| 35|   -2|   -2|   -2|   -2|   -1|   -1|        0|        0|        0|        0|    13007|    13912|       0|       0|       0|   13007|    1122|       0|      0|\n",
      "+---+---------+---+---------+--------+---+-----+-----+-----+-----+-----+-----+---------+---------+---------+---------+---------+---------+--------+--------+--------+--------+--------+--------+-------+\n",
      "only showing top 10 rows\n",
      "\n"
     ]
    }
   ],
   "source": [
    "data.show(10)"
   ]
  },
  {
   "cell_type": "code",
   "execution_count": 89,
   "metadata": {},
   "outputs": [
    {
     "data": {
      "text/plain": [
       "Array(ID, LIMIT_BAL, SEX, EDUCATION, MARRIAGE, AGE, PAY_0, PAY_2, PAY_3, PAY_4, PAY_5, PAY_6, BILL_AMT1, BILL_AMT2, BILL_AMT3, BILL_AMT4, BILL_AMT5, BILL_AMT6, PAY_AMT1, PAY_AMT2, PAY_AMT3, PAY_AMT4, PAY_AMT5, PAY_AMT6, DEFAULT)"
      ]
     },
     "execution_count": 89,
     "metadata": {},
     "output_type": "execute_result"
    }
   ],
   "source": [
    "data.columns"
   ]
  },
  {
   "cell_type": "code",
   "execution_count": 90,
   "metadata": {},
   "outputs": [
    {
     "name": "stdout",
     "output_type": "stream",
     "text": [
      "+-----------------+------------------+------------------+-----------------+\n",
      "|               ID|         LIMIT_BAL|               SEX|              AGE|\n",
      "+-----------------+------------------+------------------+-----------------+\n",
      "|            30000|             30000|             30000|            30000|\n",
      "|          15000.5|167484.32266666667|1.6037333333333332|          35.4855|\n",
      "|8660.398374208891|129747.66156720246|0.4891291960902602|9.217904068090155|\n",
      "|                1|             10000|                 1|               21|\n",
      "|            30000|           1000000|                 2|               79|\n",
      "+-----------------+------------------+------------------+-----------------+\n",
      "\n"
     ]
    }
   ],
   "source": [
    "data.describe().select(\"ID\",\"LIMIT_BAL\",\"SEX\",\"AGE\").show(5)"
   ]
  },
  {
   "cell_type": "code",
   "execution_count": 91,
   "metadata": {},
   "outputs": [
    {
     "data": {
      "text/plain": [
       "renamedData = [ID: int, LIMIT_BAL: int ... 23 more fields]\n"
      ]
     },
     "metadata": {},
     "output_type": "display_data"
    },
    {
     "data": {
      "text/plain": [
       "[ID: int, LIMIT_BAL: int ... 23 more fields]"
      ]
     },
     "execution_count": 91,
     "metadata": {},
     "output_type": "execute_result"
    }
   ],
   "source": [
    "val renamedData = data.withColumnRenamed(\"DEFAULT\",\"label\");"
   ]
  },
  {
   "cell_type": "code",
   "execution_count": 92,
   "metadata": {},
   "outputs": [
    {
     "name": "stdout",
     "output_type": "stream",
     "text": [
      "+-----+\n",
      "|label|\n",
      "+-----+\n",
      "|    1|\n",
      "|    1|\n",
      "|    0|\n",
      "|    0|\n",
      "|    0|\n",
      "+-----+\n",
      "only showing top 5 rows\n",
      "\n"
     ]
    }
   ],
   "source": [
    "renamedData.select(\"label\").show(5)"
   ]
  },
  {
   "cell_type": "code",
   "execution_count": 93,
   "metadata": {},
   "outputs": [
    {
     "data": {
      "text/plain": [
       "colLabel = label\n",
       "colNum = Array(ID, LIMIT_BAL, SEX, EDUCATION, MARRIAGE, AGE, PAY_0, PAY_2, PAY_3, PAY_4, PAY_5, PAY_6, BILL_AMT1, BILL_AMT2, BILL_AMT3, BILL_AMT4, BILL_AMT5, BILL_AMT6, PAY_AMT1, PAY_AMT2, PAY_AMT3, PAY_AMT4, PAY_AMT5, PAY_AMT6)\n"
      ]
     },
     "metadata": {},
     "output_type": "display_data"
    },
    {
     "data": {
      "text/plain": [
       "Array(ID, LIMIT_BAL, SEX, EDUCATION, MARRIAGE, AGE, PAY_0, PAY_2, PAY_3, PAY_4, PAY_5, PAY_6, BILL_AMT1, BILL_AMT2, BILL_AMT3, BILL_AMT4, BILL_AMT5, BILL_AMT6, PAY_AMT1, PAY_AMT2, PAY_AMT3, PAY_AMT4, PAY_AMT5, PAY_AMT6)"
      ]
     },
     "execution_count": 93,
     "metadata": {},
     "output_type": "execute_result"
    }
   ],
   "source": [
    "val colLabel = \"label\"\n",
    "val colNum = renamedData.columns.filter(_ != colLabel)"
   ]
  },
  {
   "cell_type": "code",
   "execution_count": 94,
   "metadata": {},
   "outputs": [
    {
     "name": "stdout",
     "output_type": "stream",
     "text": [
      "+-----+\n",
      "|label|\n",
      "+-----+\n",
      "|    1|\n",
      "|    1|\n",
      "|    0|\n",
      "|    0|\n",
      "|    0|\n",
      "+-----+\n",
      "only showing top 5 rows\n",
      "\n"
     ]
    }
   ],
   "source": [
    "renamedData.select(\"label\").show(5)"
   ]
  },
  {
   "cell_type": "code",
   "execution_count": 95,
   "metadata": {},
   "outputs": [
    {
     "name": "stdout",
     "output_type": "stream",
     "text": [
      "ID\n",
      "0\n",
      "LIMIT_BAL\n",
      "0\n",
      "SEX\n",
      "0\n",
      "EDUCATION\n",
      "0\n",
      "MARRIAGE\n",
      "0\n",
      "AGE\n",
      "0\n",
      "PAY_0\n",
      "0\n",
      "PAY_2\n",
      "0\n",
      "PAY_3\n",
      "0\n",
      "PAY_4\n",
      "0\n",
      "PAY_5\n",
      "0\n",
      "PAY_6\n",
      "0\n",
      "BILL_AMT1\n",
      "0\n",
      "BILL_AMT2\n",
      "0\n",
      "BILL_AMT3\n",
      "0\n",
      "BILL_AMT4\n",
      "0\n",
      "BILL_AMT5\n",
      "0\n",
      "BILL_AMT6\n",
      "0\n",
      "PAY_AMT1\n",
      "0\n",
      "PAY_AMT2\n",
      "0\n",
      "PAY_AMT3\n",
      "0\n",
      "PAY_AMT4\n",
      "0\n",
      "PAY_AMT5\n",
      "0\n",
      "PAY_AMT6\n",
      "0\n"
     ]
    }
   ],
   "source": [
    "for (c <- colNum) {\n",
    "    println(c)\n",
    "   val a =renamedData.where(renamedData.col(c).isNull).count()\n",
    "\n",
    "   println(a) \n",
    "}"
   ]
  },
  {
   "cell_type": "code",
   "execution_count": 96,
   "metadata": {},
   "outputs": [
    {
     "name": "stdout",
     "output_type": "stream",
     "text": [
      "+---+---------+---+---------+--------+---+-----+-----+-----+-----+-----+-----+---------+---------+---------+---------+---------+---------+--------+--------+--------+--------+--------+--------+-----+--------------------+--------------------+\n",
      "| ID|LIMIT_BAL|SEX|EDUCATION|MARRIAGE|AGE|PAY_0|PAY_2|PAY_3|PAY_4|PAY_5|PAY_6|BILL_AMT1|BILL_AMT2|BILL_AMT3|BILL_AMT4|BILL_AMT5|BILL_AMT6|PAY_AMT1|PAY_AMT2|PAY_AMT3|PAY_AMT4|PAY_AMT5|PAY_AMT6|label|        featuresFlat|              scalar|\n",
      "+---+---------+---+---------+--------+---+-----+-----+-----+-----+-----+-----+---------+---------+---------+---------+---------+---------+--------+--------+--------+--------+--------+--------+-----+--------------------+--------------------+\n",
      "|  1|    20000|  2|        2|       1| 24|    2|    2|   -1|   -1|   -2|   -2|     3913|     3102|      689|        0|        0|        0|       0|     689|       0|       0|       0|       0|    1|[1.0,20000.0,2.0,...|[1.15468129385139...|\n",
      "|  2|   120000|  2|        2|       2| 26|   -1|    2|    0|    0|    0|    2|     2682|     1725|     2682|     3272|     3455|     3261|       0|    1000|    1000|    1000|       0|    2000|    1|[2.0,120000.0,2.0...|[2.30936258770278...|\n",
      "|  3|    90000|  2|        2|       2| 34|    0|    0|    0|    0|    0|    0|    29239|    14027|    13559|    14331|    14948|    15549|    1518|    1500|    1000|    1000|    1000|    5000|    0|[3.0,90000.0,2.0,...|[3.46404388155417...|\n",
      "|  4|    50000|  2|        2|       1| 37|    0|    0|    0|    0|    0|    0|    46990|    48233|    49291|    28314|    28959|    29547|    2000|    2019|    1200|    1100|    1069|    1000|    0|[4.0,50000.0,2.0,...|[4.61872517540556...|\n",
      "|  5|    50000|  1|        2|       1| 57|   -1|    0|   -1|    0|    0|    0|     8617|     5670|    35835|    20940|    19146|    19131|    2000|   36681|   10000|    9000|     689|     679|    0|[5.0,50000.0,1.0,...|[5.77340646925695...|\n",
      "+---+---------+---+---------+--------+---+-----+-----+-----+-----+-----+-----+---------+---------+---------+---------+---------+---------+--------+--------+--------+--------+--------+--------+-----+--------------------+--------------------+\n",
      "only showing top 5 rows\n",
      "\n"
     ]
    },
    {
     "data": {
      "text/plain": [
       "va = vecAssembler_7babbd324ff9\n",
       "featuredData = [ID: int, LIMIT_BAL: int ... 24 more fields]\n",
       "scaler = stdScal_025c35f9d471\n",
       "scaledData = [ID: int, LIMIT_BAL: int ... 25 more fields]\n"
      ]
     },
     "metadata": {},
     "output_type": "display_data"
    },
    {
     "data": {
      "text/plain": [
       "[ID: int, LIMIT_BAL: int ... 25 more fields]"
      ]
     },
     "execution_count": 96,
     "metadata": {},
     "output_type": "execute_result"
    }
   ],
   "source": [
    "import org.apache.spark.ml.feature.{VectorAssembler, StandardScaler}\n",
    "\n",
    "val va = new VectorAssembler().setInputCols(colNum).setOutputCol(\"featuresFlat\")\n",
    "val featuredData = va.transform(renamedData)\n",
    "\n",
    "val scaler = new StandardScaler().setInputCol(\"featuresFlat\").setOutputCol(\"scalar\")\n",
    "val scaledData = scaler.fit(featuredData).transform(featuredData)\n",
    "\n",
    "scaledData.show(5)"
   ]
  },
  {
   "cell_type": "code",
   "execution_count": 97,
   "metadata": {},
   "outputs": [
    {
     "data": {
      "text/plain": [
       "Array(ID, LIMIT_BAL, SEX, EDUCATION, MARRIAGE, AGE, PAY_0, PAY_2, PAY_3, PAY_4, PAY_5, PAY_6, BILL_AMT1, BILL_AMT2, BILL_AMT3, BILL_AMT4, BILL_AMT5, BILL_AMT6, PAY_AMT1, PAY_AMT2, PAY_AMT3, PAY_AMT4, PAY_AMT5, PAY_AMT6, label, featuresFlat, scalar)"
      ]
     },
     "execution_count": 97,
     "metadata": {},
     "output_type": "execute_result"
    }
   ],
   "source": [
    "scaledData.columns"
   ]
  },
  {
   "cell_type": "code",
   "execution_count": 98,
   "metadata": {},
   "outputs": [
    {
     "data": {
      "text/plain": [
       "2"
      ]
     },
     "execution_count": 98,
     "metadata": {},
     "output_type": "execute_result"
    }
   ],
   "source": [
    "scaledData.select(\"label\").distinct().count()"
   ]
  },
  {
   "cell_type": "code",
   "execution_count": 99,
   "metadata": {},
   "outputs": [
    {
     "name": "stdout",
     "output_type": "stream",
     "text": [
      "[Ljava.lang.String;@2a74af64"
     ]
    },
    {
     "data": {
      "text/plain": [
       "cols = Array(scalar)\n"
      ]
     },
     "metadata": {},
     "output_type": "display_data"
    },
    {
     "data": {
      "text/plain": [
       "Array(scalar)"
      ]
     },
     "execution_count": 99,
     "metadata": {},
     "output_type": "execute_result"
    }
   ],
   "source": [
    "val cols=Array(\"scalar\")\n",
    "print(cols)"
   ]
  },
  {
   "cell_type": "code",
   "execution_count": 100,
   "metadata": {},
   "outputs": [
    {
     "data": {
      "text/plain": [
       "va2 = vecAssembler_9f8914467752\n",
       "dataset = [features: vector, label: int]\n"
      ]
     },
     "metadata": {},
     "output_type": "display_data"
    },
    {
     "data": {
      "text/plain": [
       "[features: vector, label: int]"
      ]
     },
     "execution_count": 100,
     "metadata": {},
     "output_type": "execute_result"
    }
   ],
   "source": [
    "// val newData = pipeline.fit(scaledData).transform(scaledData)\n",
    "\n",
    "val va2 = new VectorAssembler().setInputCols(cols).setOutputCol(\"features\")\n",
    "val dataset = va2.transform(scaledData).select(\"features\", \"label\")"
   ]
  },
  {
   "cell_type": "code",
   "execution_count": 101,
   "metadata": {},
   "outputs": [
    {
     "name": "stdout",
     "output_type": "stream",
     "text": [
      "+-----+\n",
      "|label|\n",
      "+-----+\n",
      "|    1|\n",
      "|    1|\n",
      "|    0|\n",
      "|    0|\n",
      "|    0|\n",
      "+-----+\n",
      "only showing top 5 rows\n",
      "\n"
     ]
    }
   ],
   "source": [
    "dataset.select(\"label\").show(5)"
   ]
  },
  {
   "cell_type": "code",
   "execution_count": 102,
   "metadata": {},
   "outputs": [
    {
     "name": "stdout",
     "output_type": "stream",
     "text": [
      "+--------------------+-----+\n",
      "|            features|label|\n",
      "+--------------------+-----+\n",
      "|(24,[0,1,2,3,4,5,...|    0|\n",
      "|(24,[0,1,2,3,4,5,...|    1|\n",
      "|(24,[0,1,2,3,4,5,...|    1|\n",
      "|(24,[0,1,2,3,4,5,...|    0|\n",
      "|(24,[0,1,2,3,4,5,...|    1|\n",
      "+--------------------+-----+\n",
      "only showing top 5 rows\n",
      "\n"
     ]
    },
    {
     "data": {
      "text/plain": [
       "trainSet = [features: vector, label: int]\n",
       "testSet = [features: vector, label: int]\n"
      ]
     },
     "metadata": {},
     "output_type": "display_data"
    },
    {
     "data": {
      "text/plain": [
       "[features: vector, label: int]"
      ]
     },
     "execution_count": 102,
     "metadata": {},
     "output_type": "execute_result"
    }
   ],
   "source": [
    "val Array(trainSet, testSet) = dataset.randomSplit(Array(0.8, 0.2))\n",
    "\n",
    "trainSet.show(5)"
   ]
  },
  {
   "cell_type": "code",
   "execution_count": null,
   "metadata": {},
   "outputs": [],
   "source": []
  },
  {
   "cell_type": "code",
   "execution_count": 103,
   "metadata": {},
   "outputs": [],
   "source": [
    "import org.apache.spark.ml.classification.{BinaryLogisticRegressionSummary, LogisticRegression}\n",
    "import org.apache.spark.mllib.evaluation.BinaryClassificationMetrics \n",
    "import org.apache.spark.ml.evaluation.Evaluator"
   ]
  },
  {
   "cell_type": "code",
   "execution_count": 104,
   "metadata": {},
   "outputs": [
    {
     "name": "stdout",
     "output_type": "stream",
     "text": [
      "org.apache.spark.ml.classification.BinaryLogisticRegressionTrainingSummaryImpl@10b5c66d"
     ]
    },
    {
     "data": {
      "text/plain": [
       "lr = logreg_a9f19a5364d1\n",
       "lrModel = LogisticRegressionModel: uid = logreg_a9f19a5364d1, numClasses = 2, numFeatures = 24\n",
       "trainingSummary = org.apache.spark.ml.classification.BinaryLogisticRegressionTrainingSummaryImpl@10b5c66d\n"
      ]
     },
     "metadata": {},
     "output_type": "display_data"
    },
    {
     "data": {
      "text/plain": [
       "org.apache.spark.ml.classification.BinaryLogisticRegressionTrainingSummaryImpl@10b5c66d"
      ]
     },
     "execution_count": 104,
     "metadata": {},
     "output_type": "execute_result"
    }
   ],
   "source": [
    "val lr = new LogisticRegression()\n",
    ".setFeaturesCol(\"features\").setLabelCol(\"label\")\n",
    "val lrModel = lr.fit(trainSet)\n",
    "\n",
    "val trainingSummary = lrModel.summary\n",
    "print(trainingSummary)"
   ]
  },
  {
   "cell_type": "code",
   "execution_count": 105,
   "metadata": {},
   "outputs": [
    {
     "name": "stdout",
     "output_type": "stream",
     "text": [
      "The accuracy of the classifier is = 0.8111296373488954"
     ]
    }
   ],
   "source": [
    "print(s\"The accuracy of the classifier is = ${trainingSummary.accuracy}\")"
   ]
  },
  {
   "cell_type": "code",
   "execution_count": 106,
   "metadata": {
    "scrolled": true
   },
   "outputs": [
    {
     "name": "stdout",
     "output_type": "stream",
     "text": [
      "+--------------------+-----+--------------------+--------------------+----------+\n",
      "|            features|label|       rawPrediction|         probability|prediction|\n",
      "+--------------------+-----+--------------------+--------------------+----------+\n",
      "|(24,[0,1,2,3,4,5,...|    0|[1.04253590436076...|[0.73933901408677...|       0.0|\n",
      "|(24,[0,1,2,3,4,5,...|    1|[2.68903390838870...|[0.93637645044229...|       0.0|\n",
      "|(24,[0,1,2,3,4,5,...|    0|[0.68119143194593...|[0.66400456077321...|       0.0|\n",
      "|(24,[0,1,2,3,4,5,...|    1|[0.89842532569589...|[0.71062579911165...|       0.0|\n",
      "|(24,[0,1,2,3,4,5,...|    1|[1.11114456755230...|[0.75234243262797...|       0.0|\n",
      "+--------------------+-----+--------------------+--------------------+----------+\n",
      "only showing top 5 rows\n",
      "\n"
     ]
    },
    {
     "data": {
      "text/plain": [
       "predictions = [features: vector, label: int ... 3 more fields]\n"
      ]
     },
     "metadata": {},
     "output_type": "display_data"
    },
    {
     "data": {
      "text/plain": [
       "[features: vector, label: int ... 3 more fields]"
      ]
     },
     "execution_count": 106,
     "metadata": {},
     "output_type": "execute_result"
    }
   ],
   "source": [
    "val predictions = lrModel.transform(testSet)\n",
    "predictions.show(5)"
   ]
  },
  {
   "cell_type": "code",
   "execution_count": null,
   "metadata": {},
   "outputs": [],
   "source": []
  },
  {
   "cell_type": "code",
   "execution_count": 107,
   "metadata": {},
   "outputs": [
    {
     "data": {
      "text/plain": [
       "lp = [label: int, prediction: double]\n",
       "counttotal = 6010\n",
       "correct = 4862\n",
       "wrong = 1148\n",
       "truep = 4543\n",
       "falseN = 1024\n",
       "falseP = 124\n",
       "ratioWrong = 0.19101497504159734\n",
       "ratioCorrect = 0.8089850249584026\n"
      ]
     },
     "metadata": {},
     "output_type": "display_data"
    },
    {
     "data": {
      "text/plain": [
       "0.8089850249584026"
      ]
     },
     "execution_count": 107,
     "metadata": {},
     "output_type": "execute_result"
    }
   ],
   "source": [
    "val lp = predictions.select( \"label\", \"prediction\")\n",
    "val counttotal = predictions.count()\n",
    "val correct = lp.filter($\"label\" === $\"prediction\").count()\n",
    "val wrong = lp.filter(not($\"label\" === $\"prediction\")).count()\n",
    "val truep = lp.filter($\"prediction\" === 0.0).filter($\"label\" === $\"prediction\").count()\n",
    "val falseN = lp.filter($\"prediction\" === 0.0).filter(not($\"label\" === $\"prediction\")).count()\n",
    "val falseP = lp.filter($\"prediction\" === 1.0).filter(not($\"label\" === $\"prediction\")).count()\n",
    "val ratioWrong=wrong.toDouble/counttotal.toDouble\n",
    "val ratioCorrect=correct.toDouble/counttotal.toDouble"
   ]
  },
  {
   "cell_type": "code",
   "execution_count": 108,
   "metadata": {},
   "outputs": [
    {
     "name": "stdout",
     "output_type": "stream",
     "text": [
      "0.713963362791393"
     ]
    },
    {
     "data": {
      "text/plain": [
       "evaluator1 = binEval_8b12ce6ddc36\n",
       "accuracy = 0.713963362791393\n"
      ]
     },
     "metadata": {},
     "output_type": "display_data"
    },
    {
     "data": {
      "text/plain": [
       "0.713963362791393"
      ]
     },
     "execution_count": 108,
     "metadata": {},
     "output_type": "execute_result"
    }
   ],
   "source": [
    "import org.apache.spark.ml.evaluation.BinaryClassificationEvaluator\n",
    "val evaluator1 = new BinaryClassificationEvaluator().setMetricName(\"areaUnderROC\")\n",
    "// Evaluates predictions and returns a scalar metric areaUnderROC(larger is better).**\n",
    "// val evaluator = new BinaryClassificationEvaluator()\n",
    "val accuracy = evaluator1.evaluate(predictions)\n",
    "print(accuracy)\n",
    "// val evaluator = new RegressionEvaluator().setMetricName(\"areaUnderROC\")\n",
    "// .setPredictionCol(\"prediction\")\n",
    "// .setLabelCol(\"label\")\n",
    "// val rmse = evaluator.evaluate(predictions)\n",
    "// println(s\"Root Mean Squared Error (RMSE) on test data = $rmse\")"
   ]
  },
  {
   "cell_type": "code",
   "execution_count": 109,
   "metadata": {},
   "outputs": [
    {
     "name": "stdout",
     "output_type": "stream",
     "text": [
      "+----------+-----+--------------------+\n",
      "|prediction|label|            features|\n",
      "+----------+-----+--------------------+\n",
      "|       0.0|    0|(24,[0,1,2,3,4,5,...|\n",
      "|       0.0|    1|(24,[0,1,2,3,4,5,...|\n",
      "|       0.0|    0|(24,[0,1,2,3,4,5,...|\n",
      "|       0.0|    1|(24,[0,1,2,3,4,5,...|\n",
      "|       0.0|    1|(24,[0,1,2,3,4,5,...|\n",
      "|       0.0|    1|(24,[0,1,2,3,4,5,...|\n",
      "|       0.0|    1|(24,[0,1,2,3,4,5,...|\n",
      "|       0.0|    0|(24,[0,1,2,3,4,5,...|\n",
      "|       0.0|    0|(24,[0,1,2,3,4,5,...|\n",
      "|       0.0|    1|(24,[0,1,2,3,4,5,...|\n",
      "|       0.0|    0|(24,[0,1,2,3,4,5,...|\n",
      "|       0.0|    0|(24,[0,1,2,3,4,5,...|\n",
      "|       0.0|    0|(24,[0,1,2,3,4,5,...|\n",
      "|       0.0|    1|(24,[0,1,2,3,4,5,...|\n",
      "|       0.0|    1|(24,[0,1,2,3,4,5,...|\n",
      "+----------+-----+--------------------+\n",
      "only showing top 15 rows\n",
      "\n"
     ]
    }
   ],
   "source": [
    "predictions.select(\"prediction\", \"label\", \"features\").where(\"prediction == 0\").show(15)"
   ]
  },
  {
   "cell_type": "code",
   "execution_count": 110,
   "metadata": {},
   "outputs": [
    {
     "name": "stdout",
     "output_type": "stream",
     "text": [
      "0.5277087153606156\n",
      "0.4850826070214496\n",
      "0.47890273983989573\n",
      "0.4780410996278998\n",
      "0.4738331046448573\n",
      "0.4701638026206252\n",
      "0.4654859456937353\n",
      "0.46496422720820413\n",
      "0.46432237239861307\n",
      "0.46419765574454136\n",
      "0.46405057439930025\n",
      "0.4638799323662472\n",
      "0.46368313414222734\n",
      "0.4635756467987573\n",
      "0.4634731806815315\n",
      "0.46342209435261367\n",
      "0.4633860260403134\n",
      "0.4633591786219933\n",
      "0.4632957562544882\n",
      "0.46323614518695233\n",
      "0.4631026909698114\n",
      "0.4630157756801869\n",
      "0.46292632605654216\n",
      "0.4628742487378277\n",
      "0.46286914651775884\n",
      "0.46284420616731997\n",
      "0.4628365941640002\n",
      "0.4628201970011964\n",
      "0.46281242426848673\n",
      "0.4628024683377443\n",
      "0.46278783461423056\n",
      "0.46277632726132284\n",
      "0.4627563836540671\n",
      "0.4627419415588407\n",
      "0.46272946605785176\n",
      "0.4627220085883122\n",
      "0.4627185163114392\n",
      "0.4627160547588746\n",
      "0.46271328769203707\n",
      "0.46270970014855567\n",
      "0.46270914132204427\n",
      "0.46270652534601137\n",
      "0.46270389068772366\n",
      "0.462702416691782\n",
      "0.46270168810561824\n",
      "0.4627010672322048\n",
      "0.46270054086508516\n",
      "0.46270036523778707\n",
      "0.4627001286598216\n",
      "0.46269997572460453\n",
      "0.46269982314496577\n",
      "0.4626996675325808\n",
      "0.46269958015614276\n",
      "0.4626992754466446\n",
      "0.46269916273217765\n",
      "0.4626990140498391\n",
      "0.4626988723093948\n",
      "0.4626987527197378\n",
      "0.46269862082156565\n",
      "0.4626984711982383\n",
      "0.4626984290546576\n",
      "0.46269837865601837\n",
      "0.4626983343183956\n",
      "0.4626982901834161\n",
      "0.4626982445886402\n",
      "0.46269822721950915\n",
      "0.4626982162035913\n",
      "0.46269820095288045\n",
      "0.4626981822332383\n",
      "0.46269817547997666\n",
      "0.46269816673429576\n",
      "0.4626981610096661\n",
      "0.4626981598168109\n",
      "0.4626981587906526\n",
      "0.4626981567634102\n",
      "0.4626981550792186\n",
      "0.46269815416376414\n",
      "0.4626981520330559\n"
     ]
    },
    {
     "data": {
      "text/plain": [
       "objectiveHistory = Array(0.5277087153606156, 0.4850826070214496, 0.47890273983989573, 0.4780410996278998, 0.4738331046448573, 0.4701638026206252, 0.4654859456937353, 0.46496422720820413, 0.46432237239861307, 0.46419765574454136, 0.46405057439930025, 0.4638799323662472, 0.46368313414222734, 0.4635756467987573, 0.4634731806815315, 0.46342209435261367, 0.4633860260403134, 0.4633591786219933, 0.4632957562544882, 0.46323614518695233, 0.4631026909698114, 0.4630157756801869, 0.46292632605654216, 0.4628742487378277, 0.46286914651775884, 0.46284420616731997, 0.4628365941640002, 0.4628201970011964, 0.46281242426848673, 0.4628024683377443, 0.46278783461423056, 0.46277632726132284, 0.4627563836540671, 0.4627419415588407, 0.46272946605785176, 0.4627220085883122, 0.4627185163114392, 0....\n"
      ]
     },
     "metadata": {},
     "output_type": "display_data"
    },
    {
     "data": {
      "text/plain": [
       "Array(0.5277087153606156, 0.4850826070214496, 0.47890273983989573, 0.4780410996278998, 0.4738331046448573, 0.4701638026206252, 0.4654859456937353, 0.46496422720820413, 0.46432237239861307, 0.46419765574454136, 0.46405057439930025, 0.4638799323662472, 0.46368313414222734, 0.4635756467987573, 0.4634731806815315, 0.46342209435261367, 0.4633860260403134, 0.4633591786219933, 0.4632957562544882, 0.46323614518695233, 0.4631026909698114, 0.4630157756801869, 0.46292632605654216, 0.4628742487378277, 0.46286914651775884, 0.46284420616731997, 0.4628365941640002, 0.4628201970011964, 0.46281242426848673, 0.4628024683377443, 0.46278783461423056, 0.46277632726132284, 0.4627563836540671, 0.4627419415588407, 0.46272946605785176, 0.4627220085883122, 0.4627185163114392, 0...."
      ]
     },
     "execution_count": 110,
     "metadata": {},
     "output_type": "execute_result"
    }
   ],
   "source": [
    "val objectiveHistory = trainingSummary.objectiveHistory\n",
    "objectiveHistory.foreach(loss => println(loss))"
   ]
  },
  {
   "cell_type": "code",
   "execution_count": 111,
   "metadata": {},
   "outputs": [
    {
     "name": "stdout",
     "output_type": "stream",
     "text": [
      "+--------------------+-------------------+\n",
      "|                 FPR|                TPR|\n",
      "+--------------------+-------------------+\n",
      "|                 0.0|                0.0|\n",
      "|0.003209070973953...|0.03381825051955413|\n",
      "|0.006846018077766...| 0.0661250708482902|\n",
      "|0.009841150986789324|0.10069903646325336|\n",
      "|0.013638551639300422|0.13243907047043266|\n",
      "|0.017222014226881317|0.16493481957302097|\n",
      "|0.021179868428090068| 0.1961080672586435|\n",
      "| 0.02519120714553137|0.22709238617041375|\n",
      "|0.030379205220088783|0.25392027205743434|\n",
      "|0.035781141359576406| 0.2799924428490459|\n",
      "| 0.04059474782050596| 0.3081428301530323|\n",
      "|0.046317591057388884| 0.3330814283015303|\n",
      "| 0.05187998074557416| 0.3585868127715851|\n",
      "| 0.05867251430710809|  0.379746835443038|\n",
      "| 0.06605337754720009|  0.398828641602116|\n",
      "| 0.07354120981975718|0.41753259021348954|\n",
      "| 0.08204524790073274| 0.4326468921216701|\n",
      "| 0.09060277049794084|0.44757226525599847|\n",
      "| 0.09916029309514895|0.46249763839032687|\n",
      "| 0.10809220730598491| 0.4761005101076894|\n",
      "+--------------------+-------------------+\n",
      "only showing top 20 rows\n",
      "\n",
      "0.728111623408054\n"
     ]
    },
    {
     "data": {
      "text/plain": [
       "binarySummary = org.apache.spark.ml.classification.BinaryLogisticRegressionTrainingSummaryImpl@10b5c66d\n",
       "roc = [FPR: double, TPR: double]\n",
       "fMeasure = [threshold: double, F-Measure: double]\n",
       "maxFMeasure = 0.5126575995234786\n",
       "bestThreshold = 0.2868251324470622\n"
      ]
     },
     "metadata": {},
     "output_type": "display_data"
    },
    {
     "data": {
      "text/plain": [
       "LogisticRegressionModel: uid = logreg_a9f19a5364d1, numClasses = 2, numFeatures = 24"
      ]
     },
     "execution_count": 111,
     "metadata": {},
     "output_type": "execute_result"
    }
   ],
   "source": [
    "// Obtain the metrics useful to judge performance on test data.\n",
    "// We cast the summary to a BinaryLogisticRegressionSummary since the problem is a\n",
    "// binary classification problem.\n",
    "val binarySummary = trainingSummary.asInstanceOf[BinaryLogisticRegressionSummary]\n",
    "\n",
    "// Obtain the receiver-operating characteristic as a dataframe and areaUnderROC.\n",
    "val roc = binarySummary.roc\n",
    "roc.show()\n",
    "println(binarySummary.areaUnderROC)\n",
    "\n",
    "// Set the model threshold to maximize F-Measure\n",
    "val fMeasure = binarySummary.fMeasureByThreshold\n",
    "val maxFMeasure = fMeasure.select(max(\"F-Measure\")).head().getDouble(0)\n",
    "val bestThreshold = fMeasure.where($\"F-Measure\" === maxFMeasure)\n",
    "  .select(\"threshold\").head().getDouble(0)\n",
    "lrModel.setThreshold(bestThreshold)"
   ]
  },
  {
   "cell_type": "markdown",
   "metadata": {},
   "source": [
    "# Decision Tree"
   ]
  },
  {
   "cell_type": "code",
   "execution_count": 121,
   "metadata": {},
   "outputs": [
    {
     "name": "stdout",
     "output_type": "stream",
     "text": [
      "+----------+-----+--------------------+\n",
      "|prediction|label|            features|\n",
      "+----------+-----+--------------------+\n",
      "|       0.0|    0|(24,[0,1,2,3,4,5,...|\n",
      "|       0.0|    1|(24,[0,1,2,3,4,5,...|\n",
      "|       0.0|    0|(24,[0,1,2,3,4,5,...|\n",
      "|       0.0|    1|(24,[0,1,2,3,4,5,...|\n",
      "|       0.0|    1|(24,[0,1,2,3,4,5,...|\n",
      "+----------+-----+--------------------+\n",
      "only showing top 5 rows\n",
      "\n"
     ]
    },
    {
     "data": {
      "text/plain": [
       "dt = dtc_0c299493da42\n",
       "dtModel = DecisionTreeClassificationModel (uid=dtc_0c299493da42) of depth 5 with 35 nodes\n",
       "predictions = [features: vector, label: int ... 3 more fields]\n"
      ]
     },
     "metadata": {},
     "output_type": "display_data"
    },
    {
     "data": {
      "text/plain": [
       "[features: vector, label: int ... 3 more fields]"
      ]
     },
     "execution_count": 121,
     "metadata": {},
     "output_type": "execute_result"
    }
   ],
   "source": [
    "import org.apache.spark.ml.evaluation.BinaryClassificationEvaluator\n",
    "import org.apache.spark.ml.classification.DecisionTreeClassifier\n",
    "\n",
    "val dt = new DecisionTreeClassifier().setLabelCol(\"label\").setFeaturesCol(\"features\")\n",
    "\n",
    "// train the model\n",
    "val dtModel = dt.fit(trainSet)\n",
    "\n",
    "// make predictions on the test data\n",
    "val predictions = dtModel.transform(testSet)\n",
    "predictions.select(\"prediction\", \"label\", \"features\").show(5)\n",
    "\n",
    "// select (prediction, true label) and compute test error\n",
    "// val evaluator = new RegressionEvaluator().setMetricName(\"rmse\")\n",
    "// .setPredictionCol(\"prediction\")\n",
    "// .setLabelCol(\"label\")\n",
    "// val rmse = evaluator.evaluate(predictions)\n",
    "// println(s\"Root Mean Squared Error (RMSE) on test data = $rmse\")"
   ]
  },
  {
   "cell_type": "code",
   "execution_count": 120,
   "metadata": {},
   "outputs": [
    {
     "name": "stdout",
     "output_type": "stream",
     "text": [
      "0.32063365009083755"
     ]
    },
    {
     "data": {
      "text/plain": [
       "evaluator = binEval_f24a02973630\n",
       "accuracy = 0.32063365009083755\n"
      ]
     },
     "metadata": {},
     "output_type": "display_data"
    },
    {
     "data": {
      "text/plain": [
       "0.32063365009083755"
      ]
     },
     "execution_count": 120,
     "metadata": {},
     "output_type": "execute_result"
    }
   ],
   "source": [
    "val evaluator = new BinaryClassificationEvaluator()\n",
    "val accuracy = evaluator.evaluate(predictions)\n",
    "\n",
    "print(accuracy)"
   ]
  },
  {
   "cell_type": "code",
   "execution_count": 113,
   "metadata": {},
   "outputs": [
    {
     "data": {
      "text/plain": [
       "lp = [label: int, prediction: double]\n",
       "counttotal = 6010\n",
       "correct = 4922\n",
       "wrong = 1088\n",
       "truep = 4453\n",
       "falseN = 874\n",
       "falseP = 214\n",
       "ratioWrong = 0.1810316139767055\n",
       "ratioCorrect = 0.8189683860232945\n"
      ]
     },
     "metadata": {},
     "output_type": "display_data"
    },
    {
     "data": {
      "text/plain": [
       "0.8189683860232945"
      ]
     },
     "execution_count": 113,
     "metadata": {},
     "output_type": "execute_result"
    }
   ],
   "source": [
    "val lp = predictions.select( \"label\", \"prediction\")\n",
    "val counttotal = predictions.count()\n",
    "val correct = lp.filter($\"label\" === $\"prediction\").count()\n",
    "val wrong = lp.filter(not($\"label\" === $\"prediction\")).count()\n",
    "val truep = lp.filter($\"prediction\" === 0.0).filter($\"label\" === $\"prediction\").count()\n",
    "val falseN = lp.filter($\"prediction\" === 0.0).filter(not($\"label\" === $\"prediction\")).count()\n",
    "val falseP = lp.filter($\"prediction\" === 1.0).filter(not($\"label\" === $\"prediction\")).count()\n",
    "val ratioWrong=wrong.toDouble/counttotal.toDouble\n",
    "val ratioCorrect=correct.toDouble/counttotal.toDouble"
   ]
  },
  {
   "cell_type": "markdown",
   "metadata": {},
   "source": [
    "# Random Forest"
   ]
  },
  {
   "cell_type": "code",
   "execution_count": 123,
   "metadata": {},
   "outputs": [
    {
     "name": "stdout",
     "output_type": "stream",
     "text": [
      "+----------+-----+--------------------+\n",
      "|prediction|label|            features|\n",
      "+----------+-----+--------------------+\n",
      "|       0.0|    0|(24,[0,1,2,3,4,5,...|\n",
      "|       0.0|    1|(24,[0,1,2,3,4,5,...|\n",
      "|       0.0|    0|(24,[0,1,2,3,4,5,...|\n",
      "|       0.0|    1|(24,[0,1,2,3,4,5,...|\n",
      "|       0.0|    1|(24,[0,1,2,3,4,5,...|\n",
      "|       0.0|    1|(24,[0,1,2,3,4,5,...|\n",
      "|       0.0|    1|(24,[0,1,2,3,4,5,...|\n",
      "|       0.0|    0|(24,[0,1,2,3,4,5,...|\n",
      "|       0.0|    0|(24,[0,1,2,3,4,5,...|\n",
      "|       0.0|    1|(24,[0,1,2,3,4,5,...|\n",
      "|       0.0|    0|(24,[0,1,2,3,4,5,...|\n",
      "|       0.0|    0|(24,[0,1,2,3,4,5,...|\n",
      "|       0.0|    0|(24,[0,1,2,3,4,5,...|\n",
      "|       0.0|    1|(24,[0,1,2,3,4,5,...|\n",
      "|       0.0|    1|(24,[0,1,2,3,4,5,...|\n",
      "+----------+-----+--------------------+\n",
      "only showing top 15 rows\n",
      "\n"
     ]
    },
    {
     "data": {
      "text/plain": [
       "rf = rfc_88cf36f9f257\n",
       "rfModel = RandomForestClassificationModel (uid=rfc_88cf36f9f257) with 10 trees\n",
       "predictions = [features: vector, label: int ... 3 more fields]\n"
      ]
     },
     "metadata": {},
     "output_type": "display_data"
    },
    {
     "data": {
      "text/plain": [
       "[features: vector, label: int ... 3 more fields]"
      ]
     },
     "execution_count": 123,
     "metadata": {},
     "output_type": "execute_result"
    }
   ],
   "source": [
    "// TODO: Replace <FILL IN> with appropriate code\n",
    "\n",
    "import org.apache.spark.ml.classification.RandomForestClassifier\n",
    "\n",
    "val rf = new RandomForestClassifier().setLabelCol(\"label\").setFeaturesCol(\"features\").setNumTrees(10)\n",
    "\n",
    "// train the model\n",
    "val rfModel = rf.fit(trainSet)\n",
    "\n",
    "//make predictions on the test data\n",
    "val predictions = rfModel.transform(testSet)\n",
    "predictions.select(\"prediction\", \"label\", \"features\").show(15)\n",
    "\n",
    "// select (prediction, true label) and compute test error\n",
    "// val evaluator = new RegressionEvaluator().setMetricName(\"rmse\")\n",
    "// .setPredictionCol(\"prediction\")\n",
    "// .setLabelCol(\"label\")\n",
    "// val rmse = evaluator.evaluate(predictions)\n",
    "// println(s\"Root Mean Squared Error (RMSE) on test data = $rmse\")"
   ]
  },
  {
   "cell_type": "code",
   "execution_count": 124,
   "metadata": {},
   "outputs": [
    {
     "name": "stdout",
     "output_type": "stream",
     "text": [
      "+----------+-----+--------------------+\n",
      "|prediction|label|            features|\n",
      "+----------+-----+--------------------+\n",
      "|       1.0|    1|(24,[0,1,2,3,4,5,...|\n",
      "|       1.0|    1|(24,[0,1,2,3,4,5,...|\n",
      "|       1.0|    1|(24,[0,1,2,3,4,5,...|\n",
      "|       1.0|    1|(24,[0,1,2,3,4,5,...|\n",
      "|       1.0|    1|(24,[0,1,2,3,4,5,...|\n",
      "|       1.0|    0|[0.00635074711618...|\n",
      "|       1.0|    0|[0.00681261963372...|\n",
      "|       1.0|    0|[0.01039213164466...|\n",
      "|       1.0|    1|[0.01050759977404...|\n",
      "|       1.0|    0|[0.01859036883100...|\n",
      "|       1.0|    1|[0.02263175335948...|\n",
      "|       1.0|    1|[0.03117639493398...|\n",
      "|       1.0|    0|[0.03810448269709...|\n",
      "|       1.0|    1|[0.04410882542512...|\n",
      "|       1.0|    1|[0.04676459240098...|\n",
      "+----------+-----+--------------------+\n",
      "only showing top 15 rows\n",
      "\n"
     ]
    }
   ],
   "source": [
    "predictions.select(\"prediction\", \"label\", \"features\").where(\"prediction == 1\").show(15)"
   ]
  },
  {
   "cell_type": "code",
   "execution_count": 128,
   "metadata": {},
   "outputs": [
    {
     "data": {
      "text/plain": [
       "Name: Compile Error\n",
       "Message: <console>:97: error: not enough arguments for method apply: (index: Int)Char in class StringOps.\n",
       "Unspecified value parameter index.\n",
       "       evaluator.getMetricName()\n",
       "                              ^\n",
       "\n",
       "StackTrace: "
      ]
     },
     "execution_count": 128,
     "metadata": {},
     "output_type": "execute_result"
    }
   ],
   "source": [
    "val evaluator = new BinaryClassificationEvaluator()\n",
    "val accuracy = evaluator.evaluate(predictions)\n",
    "\n",
    "print(accuracy)\n",
    "\n",
    "evaluator.getMetricName()"
   ]
  },
  {
   "cell_type": "code",
   "execution_count": 116,
   "metadata": {},
   "outputs": [
    {
     "data": {
      "text/plain": [
       "lp = [label: int, prediction: double]\n",
       "counttotal = 6010\n",
       "correct = 4896\n",
       "wrong = 1114\n",
       "truep = 4468\n",
       "falseN = 915\n",
       "falseP = 199\n",
       "ratioWrong = 0.18535773710482528\n",
       "ratioCorrect = 0.8146422628951747\n"
      ]
     },
     "metadata": {},
     "output_type": "display_data"
    },
    {
     "data": {
      "text/plain": [
       "0.8146422628951747"
      ]
     },
     "execution_count": 116,
     "metadata": {},
     "output_type": "execute_result"
    }
   ],
   "source": [
    "val lp = predictions.select( \"label\", \"prediction\")\n",
    "val counttotal = predictions.count()\n",
    "val correct = lp.filter($\"label\" === $\"prediction\").count()\n",
    "val wrong = lp.filter(not($\"label\" === $\"prediction\")).count()\n",
    "val truep = lp.filter($\"prediction\" === 0.0).filter($\"label\" === $\"prediction\").count()\n",
    "val falseN = lp.filter($\"prediction\" === 0.0).filter(not($\"label\" === $\"prediction\")).count()\n",
    "val falseP = lp.filter($\"prediction\" === 1.0).filter(not($\"label\" === $\"prediction\")).count()\n",
    "val ratioWrong=wrong.toDouble/counttotal.toDouble\n",
    "val ratioCorrect=correct.toDouble/counttotal.toDouble"
   ]
  },
  {
   "cell_type": "code",
   "execution_count": null,
   "metadata": {},
   "outputs": [],
   "source": []
  }
 ],
 "metadata": {
  "kernelspec": {
   "display_name": "Apache Toree - Scala",
   "language": "scala",
   "name": "apache_toree_scala"
  },
  "language_info": {
   "codemirror_mode": "text/x-scala",
   "file_extension": ".scala",
   "mimetype": "text/x-scala",
   "name": "scala",
   "pygments_lexer": "scala",
   "version": "2.11.12"
  }
 },
 "nbformat": 4,
 "nbformat_minor": 2
}
